{
 "cells": [
  {
   "cell_type": "code",
   "execution_count": 2,
   "metadata": {},
   "outputs": [],
   "source": [
    "import numpy as np\n",
    "import pandas as pd\n",
    "import keras\n",
    "import matplotlib.pyplot as plt\n",
    "from matplotlib import rcParams\n",
    "%matplotlib inline"
   ]
  },
  {
   "cell_type": "markdown",
   "metadata": {},
   "source": [
    "**Resources** :\n",
    "\n",
    "*Matrix Factorization techniques for Recommender Systems*, Koren (2009)    \n",
    "https://courses.ischool.berkeley.edu/i290-dm/s11/SECURE/Koren_Matrix_Factorization.pdf\n",
    "\n",
    "Hands on Machine Learning with scikit-learn and tensorflow:             \n",
    "https://drive.google.com/file/d/1t0rc3x5YQBgLXVLET6BzR4jn5vzMI_m0/view?usp=sharing\n",
    "\n",
    "The movieLens dataset:                                                \n",
    "https://grouplens.org/datasets/movielens/ \n",
    "\n",
    "Keras Functional API doc :                                            \n",
    "https://keras.io/guides/functional_api/\n"
   ]
  },
  {
   "cell_type": "markdown",
   "metadata": {},
   "source": [
    "# Recommender systems : collaborative filtering via matrix factorization"
   ]
  },
  {
   "cell_type": "markdown",
   "metadata": {},
   "source": [
    "Do you wonder how Netflix is able to recommend you movies despite it doesn't know anything about you but the ratings you gave to the movies you watched ? This is what we are going to explore during this 3 days machine learning module.\n",
    "\n",
    "First off, let's learn about what are recommender system, collaborative filtering and matrix factorization techniques, which are all very well introduced in Koren's 2009 famous article : *Matrix Factorization techniques for Recommender Systems* : https://courses.ischool.berkeley.edu/i290-dm/s11/SECURE/Koren_Matrix_Factorization.pdf . Read the 4 first pages (up to section *adding biases* included). \n",
    "\n",
    "Through this notebook we are going to re-implement the model described in the pages you read, and apply it to a classic movie ratings dataset coming from the website *movieLens*. To do so, we will use a powerful deep learning python library called *Keras*, that makes it easy to train complex models based on linear algebra."
   ]
  },
  {
   "cell_type": "markdown",
   "metadata": {},
   "source": [
    "## Load the dataset"
   ]
  },
  {
   "cell_type": "markdown",
   "metadata": {},
   "source": [
    "For this module, we are going to use the movieLens dataset, that contains data from the movie recommending website movielens. The data is a subset of ratings from 0 to 5 given by some users of the website to a subset of movies. You can read more about it here (we are using the latest small dataset) : https://grouplens.org/datasets/movielens/ , and in the *README* file that is in the *data/ml-latest-small/* folder.\n",
    "\n",
    "Load the ratings data from the `ratings.csv` file into a dataframe. The userId and movieId provided in the file don't start from 0, and are not contiguous (i.e. there are missing indexes).\n",
    "\n",
    "Re-index the user and movie ids to indexes going from 0 to `nb_users` and 0 to `nb_movies` respectively, by building two dictionnaries `user_ids_map` and `movie_ids_map` that maps the file ids to your new ids. \n",
    "And finally, split the rows of this dataframe in a random 90%/10% train/test sets.\n",
    "\n",
    "To do so, fill the `get_train_test_sets` function below, and respect the returned objects structures that are described in the docstring.\n"
   ]
  },
  {
   "cell_type": "code",
   "execution_count": 3,
   "metadata": {},
   "outputs": [
    {
     "data": {
      "text/html": [
       "<div>\n",
       "<style scoped>\n",
       "    .dataframe tbody tr th:only-of-type {\n",
       "        vertical-align: middle;\n",
       "    }\n",
       "\n",
       "    .dataframe tbody tr th {\n",
       "        vertical-align: top;\n",
       "    }\n",
       "\n",
       "    .dataframe thead th {\n",
       "        text-align: right;\n",
       "    }\n",
       "</style>\n",
       "<table border=\"1\" class=\"dataframe\">\n",
       "  <thead>\n",
       "    <tr style=\"text-align: right;\">\n",
       "      <th></th>\n",
       "      <th>userId</th>\n",
       "      <th>movieId</th>\n",
       "      <th>rating</th>\n",
       "      <th>timestamp</th>\n",
       "    </tr>\n",
       "  </thead>\n",
       "  <tbody>\n",
       "    <tr>\n",
       "      <th>0</th>\n",
       "      <td>1</td>\n",
       "      <td>1</td>\n",
       "      <td>4.0</td>\n",
       "      <td>964982703</td>\n",
       "    </tr>\n",
       "    <tr>\n",
       "      <th>1</th>\n",
       "      <td>1</td>\n",
       "      <td>3</td>\n",
       "      <td>4.0</td>\n",
       "      <td>964981247</td>\n",
       "    </tr>\n",
       "    <tr>\n",
       "      <th>2</th>\n",
       "      <td>1</td>\n",
       "      <td>6</td>\n",
       "      <td>4.0</td>\n",
       "      <td>964982224</td>\n",
       "    </tr>\n",
       "    <tr>\n",
       "      <th>3</th>\n",
       "      <td>1</td>\n",
       "      <td>47</td>\n",
       "      <td>5.0</td>\n",
       "      <td>964983815</td>\n",
       "    </tr>\n",
       "    <tr>\n",
       "      <th>4</th>\n",
       "      <td>1</td>\n",
       "      <td>50</td>\n",
       "      <td>5.0</td>\n",
       "      <td>964982931</td>\n",
       "    </tr>\n",
       "  </tbody>\n",
       "</table>\n",
       "</div>"
      ],
      "text/plain": [
       "   userId  movieId  rating  timestamp\n",
       "0       1        1     4.0  964982703\n",
       "1       1        3     4.0  964981247\n",
       "2       1        6     4.0  964982224\n",
       "3       1       47     5.0  964983815\n",
       "4       1       50     5.0  964982931"
      ]
     },
     "execution_count": 3,
     "metadata": {},
     "output_type": "execute_result"
    }
   ],
   "source": [
    "ratings=pd.read_csv('data/ml-latest-small/ratings.csv')\n",
    "ratings.head()"
   ]
  },
  {
   "cell_type": "code",
   "execution_count": 4,
   "metadata": {},
   "outputs": [],
   "source": [
    "def get_train_test_sets(data_path, train_prop=0.9, random_state=42):\n",
    "    \"\"\"\n",
    "    Build train and test sets and reindex userIds and movieIds from 0 with contiguous indexes.\n",
    "\n",
    "    Input: \n",
    "        data_path : string : the path to the ratings file\n",
    "        train_prop : float : The proportion of the training set \n",
    "    \n",
    "    Output:\n",
    "        train : pandas.DataFrame : A dataframe with columns [userId, movieId, rating, timestamp],\n",
    "            where the userId and movieId values have been replaced with new ids starting at 0. \n",
    "            Contains `train_prop` random entries from the input file.\n",
    "        test : pandas.DataFrame : Same as `train`, contains the 1 - `train_prop` remaining entries.\n",
    "        nb_users : int : Number of unique user ids\n",
    "        nb_movies : int : Number of unique movie ids\n",
    "        user_ids_map : dict : A mapping of original file userId to a new index starting at 0.\n",
    "            Keys are int from the original userId column, values are int of the new indexation.\n",
    "        movie_ids_map : dict : Same as `user_ids_map` for the movieIds.\n",
    "    \"\"\"\n",
    "    # 1) Charger le CSV\n",
    "    ratings =pd.read_csv(data_path)\n",
    "\n",
    "    # (optionnel) vérifications minimales de colonnes\n",
    "    expected_cols = {\"userId\", \"movieId\"}\n",
    "    if not expected_cols.issubset(ratings.columns):\n",
    "        raise ValueError(f\"Input file must contain at least columns {expected_cols}. Found: {list(ratings.columns)}\")\n",
    "\n",
    "    # 2) Construire les mappings -> indices 0..nb-1 (ordre trié des ids originaux)\n",
    "    user_ids_sorted  = sorted(ratings[\"userId\"].unique())\n",
    "    movie_ids_sorted = sorted(ratings[\"movieId\"].unique())\n",
    "\n",
    "    user_ids_map  = {old_id: new_id for new_id, old_id in enumerate(user_ids_sorted)}\n",
    "    movie_ids_map = {old_id: new_id for new_id, old_id in enumerate(movie_ids_sorted)}\n",
    "\n",
    "    nb_users  = len(user_ids_map)\n",
    "    nb_movies = len(movie_ids_map)\n",
    "\n",
    "    # 3) Appliquer les mappings : on REMPLACE directement userId et movieId par leurs indices compacts\n",
    "    ratings = ratings.copy()\n",
    "    ratings[\"userId\"]  = ratings[\"userId\"].map(user_ids_map).astype(\"int32\")\n",
    "    ratings[\"movieId\"] = ratings[\"movieId\"].map(movie_ids_map).astype(\"int32\")\n",
    "\n",
    "    # (optionnel) vérifier qu'on part bien de 0 et que c'est contigu\n",
    "    assert ratings[\"userId\"].min() == 0 and ratings[\"userId\"].max() == nb_users - 1\n",
    "    assert ratings[\"movieId\"].min() == 0 and ratings[\"movieId\"].max() == nb_movies - 1\n",
    "\n",
    "    # 4) Split train/test aléatoire mais reproductible\n",
    "    train = ratings.sample(frac=train_prop, random_state=random_state)\n",
    "    test  = ratings.drop(train.index)\n",
    "\n",
    "    # 5) Ordonner/compléter les colonnes de sortie (si timestamp/rating existent)\n",
    "    #    On garde l'ordre demandé quand c'est possible\n",
    "    ordered_cols = [c for c in [\"userId\", \"movieId\", \"rating\", \"timestamp\"] if c in ratings.columns]\n",
    "    train = train[ordered_cols + [c for c in train.columns if c not in ordered_cols]]\n",
    "    test  = test[ordered_cols + [c for c in test.columns  if c not in ordered_cols]]\n",
    "\n",
    "    return train.reset_index(drop=True), test.reset_index(drop=True), nb_users, nb_movies, user_ids_map, movie_ids_map\n"
   ]
  },
  {
   "cell_type": "markdown",
   "metadata": {},
   "source": [
    "NB : reset_index(drop=True) remet l’index du DataFrame à 0..n-1 après le split aléatoire.\n",
    "\n",
    "=> sample() et drop() conservent les anciens index : on se retrouve avec des lignes 3, 7, 42… (trous).\n",
    "On remet donc un index propre ce qui évite des surprises lors de merges/joins ou quand on relie les données par index (pandas aligne sur l’index !).\n",
    "En usage ML, c’est plus simple pour construire des tableaux numpy (.values) ou des tf.data.Dataset.\n",
    "Pourquoi drop=True ?\n",
    "Sans drop=True, l’ancien index devient une colonne \"index\". Ici on n’en a pas besoin → on le jette.\n",
    "En bref : c’est surtout pour propreté et sécurité d’alignement"
   ]
  },
  {
   "cell_type": "code",
   "execution_count": 5,
   "metadata": {
    "scrolled": true
   },
   "outputs": [
    {
     "name": "stdout",
     "output_type": "stream",
     "text": [
      "There are 9724 movies, 610 users, and 100836 ratings\n"
     ]
    }
   ],
   "source": [
    "train, test, nb_users, nb_movies, user_ids_map, movie_ids_map = get_train_test_sets('data/ml-latest-small/ratings.csv')\n",
    "dataset = pd.concat((train,test), axis = 0)\n",
    "\n",
    "print(\"There are %i movies, %i users, and %i ratings\" % (nb_movies, nb_users, dataset.shape[0]))"
   ]
  },
  {
   "cell_type": "code",
   "execution_count": 6,
   "metadata": {},
   "outputs": [],
   "source": [
    "X_train = [train[\"userId\"].to_numpy(), train[\"movieId\"].to_numpy()]\n",
    "y_train = train[\"rating\"].to_numpy()\n",
    "\n",
    "X_test = [test[\"userId\"].to_numpy(), test[\"movieId\"].to_numpy()]\n",
    "y_test = test[\"rating\"].to_numpy()"
   ]
  },
  {
   "cell_type": "markdown",
   "metadata": {},
   "source": [
    "Let's have a quick look at the ratings distribution:"
   ]
  },
  {
   "cell_type": "code",
   "execution_count": 7,
   "metadata": {
    "scrolled": true
   },
   "outputs": [
    {
     "data": {
      "text/plain": [
       "<Axes: >"
      ]
     },
     "execution_count": 7,
     "metadata": {},
     "output_type": "execute_result"
    },
    {
     "data": {
      "image/png": "[encoded data removed]",
      "text/plain": [
       "<Figure size 640x480 with 1 Axes>"
      ]
     },
     "metadata": {},
     "output_type": "display_data"
    }
   ],
   "source": [
    "dataset['rating'].hist(bins=5)"
   ]
  },
  {
   "cell_type": "markdown",
   "metadata": {},
   "source": [
    "In this dataset there are a lot of missing values, because not all the user/movie pairs have an associated rating. Indeed, each user rates only a few movies ! The goal of this notebook is to predict (some of) the missing user/movie ratings.\n",
    "\n",
    "Print how many movies each of the 5 first users have rated, and print the percentage of available ratings in the whole dataset (i.e. the ratio between number of ratings and all the possible users/movies combinations):"
   ]
  },
  {
   "cell_type": "code",
   "execution_count": 8,
   "metadata": {},
   "outputs": [
    {
     "name": "stdout",
     "output_type": "stream",
     "text": [
      "Movies rated per user (first 5 users):\n",
      "  user 1: 232 movies\n",
      "  user 2: 29 movies\n",
      "  user 3: 39 movies\n",
      "  user 4: 216 movies\n",
      "  user 5: 44 movies\n"
     ]
    }
   ],
   "source": [
    "#TOFILL\n",
    "#5 premiers users\n",
    "first_users = sorted(ratings['userId'].unique())[:5]\n",
    "\n",
    "##nb de film disctincts\n",
    "movies_per_user = (\n",
    "    ratings[ratings['userId'].isin(first_users)]\n",
    "    .groupby('userId')['movieId']\n",
    "    .nunique()                       # nb de films distincts\n",
    "    .reindex(first_users, fill_value=0)\n",
    ")\n",
    "\n",
    "print(\"Movies rated per user (first 5 users):\")\n",
    "for uid, n in movies_per_user.items():\n",
    "    print(f\"  user {uid}: {n} movies\")"
   ]
  },
  {
   "cell_type": "code",
   "execution_count": 9,
   "metadata": {},
   "outputs": [
    {
     "name": "stdout",
     "output_type": "stream",
     "text": [
      "\n",
      "Users: 610 | Movies: 9724\n",
      "Number of ratings in the dataset: 100836 / Possible (users * movies): 5931640\n",
      "Percentage of available ratings (density): 1.700%\n",
      "Sparsity (missing pairs): 98.300%\n"
     ]
    }
   ],
   "source": [
    "# Pourcentage de ratings disponibles dans tout le dataset\n",
    "nb_users  = ratings['userId'].nunique()\n",
    "nb_movies = ratings['movieId'].nunique()\n",
    "num_ratings = len(ratings)  # hypothèse: chaque ligne = une note\n",
    "\n",
    "total_possible = nb_users * nb_movies\n",
    "density = 100.0 * num_ratings / total_possible if total_possible else 0.0\n",
    "sparsity = 100.0 - density\n",
    "\n",
    "print(f\"\\nUsers: {nb_users} | Movies: {nb_movies}\")\n",
    "print(f\"Number of ratings in the dataset: {num_ratings} / Possible (users * movies): {total_possible}\")\n",
    "print(f\"Percentage of available ratings (density): {density:.3f}%\")\n",
    "print(f\"Sparsity (missing pairs): {sparsity:.3f}%\")"
   ]
  },
  {
   "cell_type": "markdown",
   "metadata": {},
   "source": [
    "There is only 1.7% of ratings that are available, which is normal as each hasn't rated all the movies. To see the dataset in a matrix form with all the missing ratings, use the `Dataframe.pivot()` function, with the `userId` as index, the `movieId` as columns, and the ratings for the `values` :"
   ]
  },
  {
   "cell_type": "code",
   "execution_count": 10,
   "metadata": {},
   "outputs": [
    {
     "data": {
      "text/html": [
       "<div>\n",
       "<style scoped>\n",
       "    .dataframe tbody tr th:only-of-type {\n",
       "        vertical-align: middle;\n",
       "    }\n",
       "\n",
       "    .dataframe tbody tr th {\n",
       "        vertical-align: top;\n",
       "    }\n",
       "\n",
       "    .dataframe thead th {\n",
       "        text-align: right;\n",
       "    }\n",
       "</style>\n",
       "<table border=\"1\" class=\"dataframe\">\n",
       "  <thead>\n",
       "    <tr style=\"text-align: right;\">\n",
       "      <th>movieId</th>\n",
       "      <th>1</th>\n",
       "      <th>2</th>\n",
       "      <th>3</th>\n",
       "      <th>4</th>\n",
       "      <th>5</th>\n",
       "      <th>6</th>\n",
       "      <th>7</th>\n",
       "      <th>8</th>\n",
       "      <th>9</th>\n",
       "      <th>10</th>\n",
       "      <th>...</th>\n",
       "      <th>193565</th>\n",
       "      <th>193567</th>\n",
       "      <th>193571</th>\n",
       "      <th>193573</th>\n",
       "      <th>193579</th>\n",
       "      <th>193581</th>\n",
       "      <th>193583</th>\n",
       "      <th>193585</th>\n",
       "      <th>193587</th>\n",
       "      <th>193609</th>\n",
       "    </tr>\n",
       "    <tr>\n",
       "      <th>userId</th>\n",
       "      <th></th>\n",
       "      <th></th>\n",
       "      <th></th>\n",
       "      <th></th>\n",
       "      <th></th>\n",
       "      <th></th>\n",
       "      <th></th>\n",
       "      <th></th>\n",
       "      <th></th>\n",
       "      <th></th>\n",
       "      <th></th>\n",
       "      <th></th>\n",
       "      <th></th>\n",
       "      <th></th>\n",
       "      <th></th>\n",
       "      <th></th>\n",
       "      <th></th>\n",
       "      <th></th>\n",
       "      <th></th>\n",
       "      <th></th>\n",
       "      <th></th>\n",
       "    </tr>\n",
       "  </thead>\n",
       "  <tbody>\n",
       "    <tr>\n",
       "      <th>1</th>\n",
       "      <td>4.0</td>\n",
       "      <td>NaN</td>\n",
       "      <td>4.0</td>\n",
       "      <td>NaN</td>\n",
       "      <td>NaN</td>\n",
       "      <td>4.0</td>\n",
       "      <td>NaN</td>\n",
       "      <td>NaN</td>\n",
       "      <td>NaN</td>\n",
       "      <td>NaN</td>\n",
       "      <td>...</td>\n",
       "      <td>NaN</td>\n",
       "      <td>NaN</td>\n",
       "      <td>NaN</td>\n",
       "      <td>NaN</td>\n",
       "      <td>NaN</td>\n",
       "      <td>NaN</td>\n",
       "      <td>NaN</td>\n",
       "      <td>NaN</td>\n",
       "      <td>NaN</td>\n",
       "      <td>NaN</td>\n",
       "    </tr>\n",
       "    <tr>\n",
       "      <th>2</th>\n",
       "      <td>NaN</td>\n",
       "      <td>NaN</td>\n",
       "      <td>NaN</td>\n",
       "      <td>NaN</td>\n",
       "      <td>NaN</td>\n",
       "      <td>NaN</td>\n",
       "      <td>NaN</td>\n",
       "      <td>NaN</td>\n",
       "      <td>NaN</td>\n",
       "      <td>NaN</td>\n",
       "      <td>...</td>\n",
       "      <td>NaN</td>\n",
       "      <td>NaN</td>\n",
       "      <td>NaN</td>\n",
       "      <td>NaN</td>\n",
       "      <td>NaN</td>\n",
       "      <td>NaN</td>\n",
       "      <td>NaN</td>\n",
       "      <td>NaN</td>\n",
       "      <td>NaN</td>\n",
       "      <td>NaN</td>\n",
       "    </tr>\n",
       "    <tr>\n",
       "      <th>3</th>\n",
       "      <td>NaN</td>\n",
       "      <td>NaN</td>\n",
       "      <td>NaN</td>\n",
       "      <td>NaN</td>\n",
       "      <td>NaN</td>\n",
       "      <td>NaN</td>\n",
       "      <td>NaN</td>\n",
       "      <td>NaN</td>\n",
       "      <td>NaN</td>\n",
       "      <td>NaN</td>\n",
       "      <td>...</td>\n",
       "      <td>NaN</td>\n",
       "      <td>NaN</td>\n",
       "      <td>NaN</td>\n",
       "      <td>NaN</td>\n",
       "      <td>NaN</td>\n",
       "      <td>NaN</td>\n",
       "      <td>NaN</td>\n",
       "      <td>NaN</td>\n",
       "      <td>NaN</td>\n",
       "      <td>NaN</td>\n",
       "    </tr>\n",
       "    <tr>\n",
       "      <th>4</th>\n",
       "      <td>NaN</td>\n",
       "      <td>NaN</td>\n",
       "      <td>NaN</td>\n",
       "      <td>NaN</td>\n",
       "      <td>NaN</td>\n",
       "      <td>NaN</td>\n",
       "      <td>NaN</td>\n",
       "      <td>NaN</td>\n",
       "      <td>NaN</td>\n",
       "      <td>NaN</td>\n",
       "      <td>...</td>\n",
       "      <td>NaN</td>\n",
       "      <td>NaN</td>\n",
       "      <td>NaN</td>\n",
       "      <td>NaN</td>\n",
       "      <td>NaN</td>\n",
       "      <td>NaN</td>\n",
       "      <td>NaN</td>\n",
       "      <td>NaN</td>\n",
       "      <td>NaN</td>\n",
       "      <td>NaN</td>\n",
       "    </tr>\n",
       "    <tr>\n",
       "      <th>5</th>\n",
       "      <td>4.0</td>\n",
       "      <td>NaN</td>\n",
       "      <td>NaN</td>\n",
       "      <td>NaN</td>\n",
       "      <td>NaN</td>\n",
       "      <td>NaN</td>\n",
       "      <td>NaN</td>\n",
       "      <td>NaN</td>\n",
       "      <td>NaN</td>\n",
       "      <td>NaN</td>\n",
       "      <td>...</td>\n",
       "      <td>NaN</td>\n",
       "      <td>NaN</td>\n",
       "      <td>NaN</td>\n",
       "      <td>NaN</td>\n",
       "      <td>NaN</td>\n",
       "      <td>NaN</td>\n",
       "      <td>NaN</td>\n",
       "      <td>NaN</td>\n",
       "      <td>NaN</td>\n",
       "      <td>NaN</td>\n",
       "    </tr>\n",
       "  </tbody>\n",
       "</table>\n",
       "<p>5 rows × 9724 columns</p>\n",
       "</div>"
      ],
      "text/plain": [
       "movieId  1       2       3       4       5       6       7       8       \\\n",
       "userId                                                                    \n",
       "1           4.0     NaN     4.0     NaN     NaN     4.0     NaN     NaN   \n",
       "2           NaN     NaN     NaN     NaN     NaN     NaN     NaN     NaN   \n",
       "3           NaN     NaN     NaN     NaN     NaN     NaN     NaN     NaN   \n",
       "4           NaN     NaN     NaN     NaN     NaN     NaN     NaN     NaN   \n",
       "5           4.0     NaN     NaN     NaN     NaN     NaN     NaN     NaN   \n",
       "\n",
       "movieId  9       10      ...  193565  193567  193571  193573  193579  193581  \\\n",
       "userId                   ...                                                   \n",
       "1           NaN     NaN  ...     NaN     NaN     NaN     NaN     NaN     NaN   \n",
       "2           NaN     NaN  ...     NaN     NaN     NaN     NaN     NaN     NaN   \n",
       "3           NaN     NaN  ...     NaN     NaN     NaN     NaN     NaN     NaN   \n",
       "4           NaN     NaN  ...     NaN     NaN     NaN     NaN     NaN     NaN   \n",
       "5           NaN     NaN  ...     NaN     NaN     NaN     NaN     NaN     NaN   \n",
       "\n",
       "movieId  193583  193585  193587  193609  \n",
       "userId                                   \n",
       "1           NaN     NaN     NaN     NaN  \n",
       "2           NaN     NaN     NaN     NaN  \n",
       "3           NaN     NaN     NaN     NaN  \n",
       "4           NaN     NaN     NaN     NaN  \n",
       "5           NaN     NaN     NaN     NaN  \n",
       "\n",
       "[5 rows x 9724 columns]"
      ]
     },
     "execution_count": 10,
     "metadata": {},
     "output_type": "execute_result"
    }
   ],
   "source": [
    "#TOFILL\n",
    "ratPivot=ratings.copy()\n",
    "ratPivot=ratPivot.pivot(index='userId', columns='movieId', values='rating')\n",
    "ratPivot.head()"
   ]
  },
  {
   "cell_type": "markdown",
   "metadata": {},
   "source": [
    "Print all the ratings of user 1. To do so, use the *movies.csv* file and your `movie_ids_map` dictionnary to find the movie title from the new movie indexes, and print the real movie title associated to each rating of user 1 :"
   ]
  },
  {
   "cell_type": "code",
   "execution_count": 11,
   "metadata": {},
   "outputs": [
    {
     "data": {
      "text/html": [
       "<div>\n",
       "<style scoped>\n",
       "    .dataframe tbody tr th:only-of-type {\n",
       "        vertical-align: middle;\n",
       "    }\n",
       "\n",
       "    .dataframe tbody tr th {\n",
       "        vertical-align: top;\n",
       "    }\n",
       "\n",
       "    .dataframe thead th {\n",
       "        text-align: right;\n",
       "    }\n",
       "</style>\n",
       "<table border=\"1\" class=\"dataframe\">\n",
       "  <thead>\n",
       "    <tr style=\"text-align: right;\">\n",
       "      <th></th>\n",
       "      <th>movieId</th>\n",
       "      <th>title</th>\n",
       "      <th>genres</th>\n",
       "    </tr>\n",
       "  </thead>\n",
       "  <tbody>\n",
       "    <tr>\n",
       "      <th>0</th>\n",
       "      <td>1</td>\n",
       "      <td>Toy Story (1995)</td>\n",
       "      <td>Adventure|Animation|Children|Comedy|Fantasy</td>\n",
       "    </tr>\n",
       "    <tr>\n",
       "      <th>1</th>\n",
       "      <td>2</td>\n",
       "      <td>Jumanji (1995)</td>\n",
       "      <td>Adventure|Children|Fantasy</td>\n",
       "    </tr>\n",
       "    <tr>\n",
       "      <th>2</th>\n",
       "      <td>3</td>\n",
       "      <td>Grumpier Old Men (1995)</td>\n",
       "      <td>Comedy|Romance</td>\n",
       "    </tr>\n",
       "    <tr>\n",
       "      <th>3</th>\n",
       "      <td>4</td>\n",
       "      <td>Waiting to Exhale (1995)</td>\n",
       "      <td>Comedy|Drama|Romance</td>\n",
       "    </tr>\n",
       "    <tr>\n",
       "      <th>4</th>\n",
       "      <td>5</td>\n",
       "      <td>Father of the Bride Part II (1995)</td>\n",
       "      <td>Comedy</td>\n",
       "    </tr>\n",
       "  </tbody>\n",
       "</table>\n",
       "</div>"
      ],
      "text/plain": [
       "   movieId                               title  \\\n",
       "0        1                    Toy Story (1995)   \n",
       "1        2                      Jumanji (1995)   \n",
       "2        3             Grumpier Old Men (1995)   \n",
       "3        4            Waiting to Exhale (1995)   \n",
       "4        5  Father of the Bride Part II (1995)   \n",
       "\n",
       "                                        genres  \n",
       "0  Adventure|Animation|Children|Comedy|Fantasy  \n",
       "1                   Adventure|Children|Fantasy  \n",
       "2                               Comedy|Romance  \n",
       "3                         Comedy|Drama|Romance  \n",
       "4                                       Comedy  "
      ]
     },
     "execution_count": 11,
     "metadata": {},
     "output_type": "execute_result"
    }
   ],
   "source": [
    "#TOFILL\n",
    "user1=[ratPivot.index==1]\n",
    "user1\n",
    "\n",
    "movies=pd.read_csv('data/ml-latest-small/movies.csv')\n",
    "movies.head()\n"
   ]
  },
  {
   "cell_type": "code",
   "execution_count": 12,
   "metadata": {},
   "outputs": [],
   "source": [
    "## le mieux c'est de créer une fonction pour que l'on puisse réutiliser le code plus facilement\n",
    "## en utilisant userId réindexé (user_new_id), ratings_df (train ou test), movies_csv_path (chemin vers movies.csv), movie_ids_map (mapping movieId -> new_idx)\n",
    "def user_ratings_with_titles(user_new_id, ratings_df, movies_csv_path, movie_ids_map):\n",
    "    # 1) inverse map: new_idx -> original_movieId\n",
    "    inv_movie_ids_map = {new: old for old, new in movie_ids_map.items()}\n",
    "\n",
    "    # 2) extraire les notes de l'utilisateur (id réindexé)\n",
    "    cols_presentes = [c for c in [\"userId\", \"movieId\", \"rating\", \"timestamp\"] if c in ratings_df.columns]\n",
    "    user_ratings = ratings_df.loc[ratings_df[\"userId\"] == user_new_id, cols_presentes].copy()\n",
    "\n",
    "    if user_ratings.empty:\n",
    "        print(f\"Aucune note pour l'utilisateur {user_new_id}.\")\n",
    "        return\n",
    "\n",
    "    # 3) retrouver les movieId d'origine pour pouvoir joindre sur movies.csv\n",
    "    user_ratings[\"orig_movieId\"] = user_ratings[\"movieId\"].map(inv_movie_ids_map)\n",
    "\n",
    "    # 4) charger les titres et joindre\n",
    "    movies = pd.read_csv(movies_csv_path, usecols=[\"movieId\", \"title\"])\n",
    "    user_ratings = user_ratings.merge(\n",
    "        movies, left_on=\"orig_movieId\", right_on=\"movieId\", how=\"left\"\n",
    "    )\n",
    "\n",
    "    # 5) afficher proprement\n",
    "    colonnes_sortie = [c for c in [\"userId\", \"title\", \"rating\", \"timestamp\"] if c in user_ratings.columns]\n",
    "    user_ratings = user_ratings[colonnes_sortie].sort_values(\n",
    "        by=[c for c in [\"rating\", \"title\"] if c in user_ratings.columns],\n",
    "        ascending=[False, True] if \"rating\" in user_ratings.columns else True\n",
    "    )\n",
    "    \n",
    "    # impression\n",
    "    print(user_ratings.to_string(index=False))"
   ]
  },
  {
   "cell_type": "code",
   "execution_count": 13,
   "metadata": {},
   "outputs": [
    {
     "name": "stdout",
     "output_type": "stream",
     "text": [
      " userId                                                                                                          title  rating  timestamp\n",
      "      1                                                    Adventures of Milo and Otis, The (Koneko monogatari) (1986)     5.0  964982791\n",
      "      1                                                                       After the Fox (Caccia alla volpe) (1966)     5.0  964981909\n",
      "      1                                                                                               Afterglow (1997)     5.0  964984086\n",
      "      1                                                                                          Altered States (1980)     5.0  964981144\n",
      "      1                                                                                                 Amistad (1997)     5.0  964982290\n",
      "      1                                                        And God Created Woman (Et Dieu... créa la femme) (1956)     5.0  964981680\n",
      "      1                                                                                          Angela's Ashes (1999)     5.0  964981093\n",
      "      1                                                                                   Anne Frank Remembered (1995)     5.0  964980868\n",
      "      1                                                                                         Aristocats, The (1970)     5.0  964984002\n",
      "      1                                                                                           Atlantic City (1980)     5.0  964982346\n",
      "      1                                                                                        Band of the Hand (1986)     5.0  964981888\n",
      "      1                                                                         Beavis and Butt-Head Do America (1996)     5.0  964981327\n",
      "      1                                                                                             Being Human (1993)     5.0  964982588\n",
      "      1                                                                                                    Bent (1997)     5.0  964983414\n",
      "      1                                                                                          Big Tease, The (1999)     5.0  964982242\n",
      "      1                                                                                              Billy Jack (1971)     5.0  964982176\n",
      "      1                                                                           Billy Jack Goes to Washington (1977)     5.0  964982191\n",
      "      1                                                                                             Blood Beach (1981)     5.0  964982681\n",
      "      1                                                                                                    Blow (2001)     5.0  964983873\n",
      "      1                                                                                              Body Parts (1991)     5.0  964982876\n",
      "      1                                                                                      Body Snatcher, The (1945)     5.0  964982791\n",
      "      1                                                                                                   Bound (1996)     5.0  964982838\n",
      "      1                                                                                     Brewster's Millions (1985)     5.0  964982271\n",
      "      1                                                                                                Candyman (1992)     5.0  964982855\n",
      "      1                                                                                               Cape Fear (1962)     5.0  964982653\n",
      "      1                                                                         Captain Horatio Hornblower R.N. (1951)     5.0  964981265\n",
      "      1                                                                                            Career Girls (1997)     5.0  964981872\n",
      "      1                                                                                       Carnival of Souls (1962)     5.0  964980985\n",
      "      1                                                                                                  Carrie (1976)     5.0  964982791\n",
      "      1                                                                                             Cherry 2000 (1987)     5.0  964981208\n",
      "      1               City of the Living Dead (a.k.a. Gates of Hell, The) (Paura nella città dei morti viventi) (1980)     5.0  964983414\n",
      "      1                                                                                       Conspiracy Theory (1997)     5.0  964981827\n",
      "      1                                                                                          Contender, The (2000)     5.0  964981872\n",
      "      1                                                                                                     Cop (1988)     5.0  964984086\n",
      "      1                                                                                     Crimes of the Heart (1986)     5.0  964982400\n",
      "      1                                                                                         Damien: Omen II (1978)     5.0  964982653\n",
      "      1                                                                                        Devil's Own, The (1997)     5.0  964981327\n",
      "      1                                                                                               Duck Soup (1933)     5.0  964983219\n",
      "      1                                                                                             Eaten Alive (1977)     5.0  964982588\n",
      "      1                                                                                          Excess Baggage (1997)     5.0  964983737\n",
      "      1                                                                                                   Faust (1926)     5.0  964981107\n",
      "      1                                                                                 Filth and the Fury, The (2000)     5.0  964982620\n",
      "      1                                                                                         Fire Down Below (1997)     5.0  964984018\n",
      "      1                                                    Fist of Fury (Chinese Connection, The) (Jing wu men) (1972)     5.0  964983536\n",
      "      1                                                                                    For Richer or Poorer (1997)     5.0  964982703\n",
      "      1                                                                                              Foxy Brown (1974)     5.0  964983762\n",
      "      1                                                                                              Funny Girl (1968)     5.0  964980668\n",
      "      1                                                                                                 Georgia (1995)     5.0  964982931\n",
      "      1                                                                     Ghost in the Shell (Kôkaku kidôtai) (1995)     5.0  964982838\n",
      "      1                                                                                                   Glory (1989)     5.0  964982176\n",
      "      1                                                                                            Grand Canyon (1991)     5.0  964982290\n",
      "      1                                                                Grand Day Out with Wallace and Gromit, A (1989)     5.0  964981529\n",
      "      1                                                                                               Hangar 18 (1980)     5.0  964982363\n",
      "      1                                                                                                  Harvey (1950)     5.0  964983263\n",
      "      1                                                                                                   Heavy (1995)     5.0  964982931\n",
      "      1                                                                                              Hell Night (1981)     5.0  964981710\n",
      "      1                                                                                     Herbie Goes Bananas (1980)     5.0  964981107\n",
      "      1                                                                               Hunt for Red October, The (1990)     5.0  964980499\n",
      "      1                                                                        I Stand Alone (Seul contre tous) (1998)     5.0  964981497\n",
      "      1                                                                                 I'm Gonna Git You Sucka (1988)     5.0  964982791\n",
      "      1                                                                                                    I.Q. (1994)     5.0  964981208\n",
      "      1                                                                                             In Too Deep (1999)     5.0  964982529\n",
      "      1                                                                                   In the Company of Men (1997)     5.0  964981827\n",
      "      1                                                                                          Jacob's Ladder (1990)     5.0  964981144\n",
      "      1                                                                                  Jewel of the Nile, The (1985)     5.0  964983034\n",
      "      1                                                                                                Ken Park (2002)     5.0  964984002\n",
      "      1                                                                                               Kickboxer (1989)     5.0  964983484\n",
      "      1                                                                           Kids in the Hall: Brain Candy (1996)     5.0  964984153\n",
      "      1                                                                                             Last Orders (2001)     5.0  964983737\n",
      "      1 Legend of 1900, The (a.k.a. The Legend of the Pianist on the Ocean) (Leggenda del pianista sull'oceano) (1998)     5.0  964980523\n",
      "      1                                                             Legend of Drunken Master, The (Jui kuen II) (1994)     5.0  964983282\n",
      "      1                                                                                                Mad Love (1995)     5.0  964984041\n",
      "      1                                                                            Masque of the Red Death, The (1964)     5.0  964982838\n",
      "      1                                                                                         MatchMaker, The (1997)     5.0  964983618\n",
      "      1                                                                                               Meatballs (1979)     5.0  964983664\n",
      "      1                                                                                        Mighty Aphrodite (1995)     5.0  964983815\n",
      "      1                                                                               Monster, The (Mostro, Il) (1994)     5.0  964982176\n",
      "      1                                                                                      Muppets From Space (1999)     5.0  964982903\n",
      "      1                                                                                       Murder by Numbers (2002)     5.0  964981855\n",
      "      1                                                                            My Crazy Life (Mi vida loca) (1993)     5.0  964981179\n",
      "      1                                                             NeverEnding Story II: The Next Chapter, The (1990)     5.0  964982951\n",
      "      1                                                                                    Next Stop Wonderland (1998)     5.0  964983504\n",
      "      1                                                                                             Nine Months (1995)     5.0  964984100\n",
      "      1                                                                                             Nurse Betty (2000)     5.0  964982703\n",
      "      1                                                   Othello (Tragedy of Othello: The Moor of Venice, The) (1952)     5.0  964982791\n",
      "      1                                                                                   Princess Diaries, The (2001)     5.0  964982328\n",
      "      1                                                                                                  Psycho (1960)     5.0  964982475\n",
      "      1                                                                                      Psycho Beach Party (2000)     5.0  964980868\n",
      "      1                                                                                               Punchline (1988)     5.0  964982242\n",
      "      1                                                                                               Quiz Show (1994)     5.0  964981680\n",
      "      1                                                                                          Rainmaker, The (1997)     5.0  964981442\n",
      "      1                                                                                    Raisin in the Sun, A (1961)     5.0  964981278\n",
      "      1                                                                                         Raising Arizona (1987)     5.0  964981680\n",
      "      1                                                                                              Red Corner (1997)     5.0  964983705\n",
      "      1                                                                                                Ridicule (1996)     5.0  964982400\n",
      "      1                                                                                         River Wild, The (1994)     5.0  964981179\n",
      "      1                                                                                               Road Trip (2000)     5.0  964981855\n",
      "      1                                                                           Road Warrior, The (Mad Max 2) (1981)     5.0  964982703\n",
      "      1                                                                                          Romeo Must Die (2000)     5.0  964983000\n",
      "      1                                                                                          Romper Stomper (1992)     5.0  964981909\n",
      "      1                                                                                     Run Silent Run Deep (1958)     5.0  964981710\n",
      "      1                                                                                               She-Devil (1989)     5.0  964982242\n",
      "      1                                                                                           Shootist, The (1976)     5.0  964984054\n",
      "      1                                                                                               Showgirls (1995)     5.0  964983650\n",
      "      1                                                                                     Single White Female (1992)     5.0  964983414\n",
      "      1                                                                                      Soldier's Story, A (1984)     5.0  964982838\n",
      "      1                                                                                               Soul Food (1997)     5.0  964981909\n",
      "      1                                                                                             Source, The (1999)     5.0  964982876\n",
      "      1                                                                                               Spartacus (1960)     5.0  964982791\n",
      "      1                                                                                               Star Maps (1997)     5.0  964982951\n",
      "      1                                                                               The Count of Monte Cristo (2002)     5.0  964981589\n",
      "      1                                                                              The Falcon and the Snowman (1985)     5.0  964983123\n",
      "      1                                                                                  Thieves (Voleurs, Les) (1996)     5.0  964982951\n",
      "      1                                                                                Thomas Crown Affair, The (1999)     5.0  964982838\n",
      "      1                                                                                       Thousand Acres, A (1997)     5.0  964981909\n",
      "      1                                                                                       Time Machine, The (1960)     5.0  964981888\n",
      "      1                                                                                     Tomorrow Never Dies (1997)     5.0  964981909\n",
      "      1                                                                                             Toy Story 2 (1999)     5.0  964983861\n",
      "      1                                                                                 Transformers: The Movie (1986)     5.0  964982495\n",
      "      1                                                                                              Turbulence (1997)     5.0  964981680\n",
      "      1                                                                                                Vampires (1998)     5.0  964981125\n",
      "      1                                                                                    Virgin Suicides, The (1999)     5.0  964983393\n",
      "      1                                                                                               Walkabout (1971)     5.0  964983484\n",
      "      1                                                                                       Washington Square (1997)     5.0  964983723\n",
      "      1                                                                                   Age of Innocence, The (1993)     4.0  964980962\n",
      "      1                                                                                           Air Force One (1997)     4.0  964983250\n",
      "      1                                                                                               Airplane! (1980)     4.0  964982838\n",
      "      1                                                           Amelie (Fabuleux destin d'Amélie Poulain, Le) (2001)     4.0  964980683\n",
      "      1                                                                                             Basket Case (1982)     4.0  964981799\n",
      "      1                                                            Black Tar Heroin: The Dark End of the Street (2000)     4.0  964984169\n",
      "      1                                                                                              Blown Away (1994)     4.0  964981710\n",
      "      1                                                                                               Body Heat (1981)     4.0  964981710\n",
      "      1                                                                                          Boogeyman, The (1980)     4.0  964982271\n",
      "      1                                                                                          Boys and Girls (2000)     4.0  964981710\n",
      "      1                                                                                    Bride of Re-Animator (1990)     4.0  964982989\n",
      "      1                                                                                                 Cabaret (1972)     4.0  964983393\n",
      "      1                                                                     Cemetery Man (Dellamorte Dellamore) (1994)     4.0  964983793\n",
      "      1                                                                                          City of Angels (1998)     4.0  964983393\n",
      "      1                                                                                       Cold Comfort Farm (1995)     4.0  964982546\n",
      "      1                                                                                              Diabolique (1996)     4.0  964981179\n",
      "      1                                                                                     Disturbing Behavior (1998)     4.0  964980985\n",
      "      1                                                                                            East is East (1999)     4.0  964982377\n",
      "      1                                            European Vacation (aka National Lampoon's European Vacation) (1985)     4.0  964982588\n",
      "      1                                                                                                   Evita (1996)     4.0  964984018\n",
      "      1                                                                                       Exorcist III, The (1990)     4.0  964980875\n",
      "      1                                                                                                    Fear (1996)     4.0  964982653\n",
      "      1                                                                       Ghost Dog: The Way of the Samurai (1999)     4.0  965719662\n",
      "      1                                                                                                 Glitter (2001)     4.0  964981775\n",
      "      1                                                                                            Happy, Texas (1999)     4.0  964981680\n",
      "      1                                                                          Hard-Boiled (Lat sau san taam) (1992)     4.0  964982620\n",
      "      1                                                                                              Hiding Out (1987)     4.0  964981872\n",
      "      1                                                                                                 Ice Age (2002)     4.0  964982417\n",
      "      1                                                                                                In & Out (1997)     4.0  964981855\n",
      "      1                                                                                   It's a Wonderful Life (1946)     4.0  964982400\n",
      "      1                                                                                                 Jumanji (1995)     4.0  964982703\n",
      "      1                                                                                          Jupiter's Wife (1994)     4.0  964982176\n",
      "      1                                                                              Kama Sutra: A Tale of Love (1996)     4.0  964982513\n",
      "      1                                                                                            Killing, The (1956)     4.0  964982563\n",
      "      1                                                                                   Kissing Jessica Stein (2001)     4.0  964980694\n",
      "      1                                                                                                   Lenny (1974)     4.0  964981220\n",
      "      1                                                                                                   Limbo (1999)     4.0  964984176\n",
      "      1                                                                  Little Nemo: Adventures in Slumberland (1992)     4.0  964981725\n",
      "      1                                                              Mary Shelley's Frankenstein (Frankenstein) (1994)     4.0  964980908\n",
      "      1                                                                                       Miller's Crossing (1990)     4.0  964983614\n",
      "      1                                                                             Mortal Kombat: Annihilation (1997)     4.0  964983599\n",
      "      1                                                                                     Mosquito Coast, The (1986)     4.0  964981747\n",
      "      1                                                                                           Mystery Train (1989)     4.0  964980523\n",
      "      1                                                                                      Night of the Comet (1984)     4.0  964981710\n",
      "      1                                                                                              Nightwatch (1997)     4.0  964981179\n",
      "      1                                                                                              No Way Out (1987)     4.0  964983080\n",
      "      1                                                                                             Normal Life (1996)     4.0  964980499\n",
      "      1                                                                                            Original Sin (2001)     4.0  964981799\n",
      "      1                                                                                                 Orlando (1992)     4.0  964980868\n",
      "      1                                                                                                 Pollock (2000)     4.0  964980896\n",
      "      1                                                                                           Presidio, The (1988)     4.0  964982310\n",
      "      1                                                                                             Re-Animator (1985)     4.0  964982310\n",
      "      1                                                                                     Remember the Titans (2000)     4.0  964982290\n",
      "      1                                                                                           Rescuers, The (1977)     4.0  964982620\n",
      "      1                                                                                               Rock Star (2001)     4.0  964981725\n",
      "      1                                                                                               Rock, The (1996)     4.0  964982271\n",
      "      1                                                                                     Romancing the Stone (1984)     4.0  964983056\n",
      "      1                                                                                                 Sabrina (1995)     4.0  964982224\n",
      "      1                                                                                     She's Having a Baby (1988)     4.0  964983034\n",
      "      1                                                                                          Shower (Xizao) (1999)     4.0  964980523\n",
      "      1                                                                                 Star Trek: Insurrection (1998)     4.0  964981404\n",
      "      1                                                                                          Street Fighter (1994)     4.0  964982563\n",
      "      1                                                                                       Terminal Velocity (1994)     4.0  964982346\n",
      "      1                                                                                              The Hunger (1983)     4.0  964983414\n",
      "      1                                                                                      U2: Rattle and Hum (1988)     4.0  964982462\n",
      "      1                                                                                          Under the Sand (2000)     4.0  964982495\n",
      "      1                                                                                       View to a Kill, A (1985)     4.0  964981230\n",
      "      1                                                                                       Waiting to Exhale (1995)     4.0  964981247\n",
      "      1                                                                                  War of the Worlds, The (1953)     4.0  964982211\n",
      "      1                                                                                          White Oleander (2002)     4.0  964982903\n",
      "      1                                                                                          Wild Wild West (1999)     4.0  964981888\n",
      "      1                                                                                          Wing Commander (1999)     4.0  964981780\n",
      "      1                                                                             Witness for the Prosecution (1957)     4.0  964982271\n",
      "      1                                                                                        Yellow Submarine (1968)     4.0  964981725\n",
      "      1                                                                                              Young Guns (1988)     4.0  964980924\n",
      "      1                                                                              Your Friends and Neighbors (1998)     4.0  964983056\n",
      "      1                                                                         American Werewolf in London, An (1981)     3.0  964981775\n",
      "      1                                                            Big Deal on Madonna Street (I Soliti Ignoti) (1958)     3.0  964983108\n",
      "      1                                                                         Buffalo '66 (a.k.a. Buffalo 66) (1998)     3.0  964983017\n",
      "      1                                                                                               Cape Fear (1991)     3.0  964982903\n",
      "      1                                                                                          Chain Reaction (1996)     3.0  964982563\n",
      "      1                                                                                              Cinderella (1950)     3.0  964984086\n",
      "      1                                                                                     Crossing Guard, The (1995)     3.0  964982400\n",
      "      1                                                                                    Crow: Salvation, The (2000)     3.0  964983426\n",
      "      1                                                                            Fast Times at Ridgemont High (1982)     3.0  964982513\n",
      "      1                                                                                             Grand Hotel (1932)     3.0  964982310\n",
      "      1                                                                                         Higher Learning (1995)     3.0  964982310\n",
      "      1                                                                                             Hope Floats (1998)     3.0  964982653\n",
      "      1                                                                                           Kiss of Death (1995)     3.0  964980985\n",
      "      1                                                      Land Before Time III: The Time of the Great Giving (1995)     3.0  964981775\n",
      "      1                                                                                         Life with Mikey (1993)     3.0  964982363\n",
      "      1                                               Monty Python's And Now for Something Completely Different (1971)     3.0  964981710\n",
      "      1                                                                                          Needful Things (1993)     3.0  964981125\n",
      "      1                                                          Nightmare on Elm Street 2: Freddy's Revenge, A (1985)     3.0  964984112\n",
      "      1                                                                                         No Small Affair (1984)     3.0  964982620\n",
      "      1                                                                                          Penny Serenade (1941)     3.0  964982653\n",
      "      1                                                                                        Princess Caraboo (1994)     3.0  964981208\n",
      "      1                                                                                     Rape Me (Baise-moi) (2000)     3.0  964981093\n",
      "      1                                                                                       Untouchables, The (1987)     3.0  964983536\n",
      "      1                                                                                              Virtuosity (1995)     3.0  964982967\n",
      "      1                                                                                        Who's That Girl? (1987)     3.0  964982328\n",
      "      1                                                                                                 Witness (1985)     3.0  964983414\n",
      "      1                                                                                        Any Given Sunday (1999)     2.0  964983094\n",
      "      1                                                                                          Kiss the Girls (1997)     2.0  964983393\n",
      "      1                                                                                            Natural, The (1984)     2.0  964983546\n",
      "      1                                                                                      North Dallas Forty (1979)     2.0  964982588\n",
      "      1                                                                                             Rawhead Rex (1986)     2.0  964981775\n",
      "      1                                                              City of Women, The (Città delle donne, La) (1980)     1.0  964983504\n"
     ]
    }
   ],
   "source": [
    "### note de l'utilisateur 1 et les titres des films associés\n",
    "user_ratings_with_titles(\n",
    "    user_new_id=1,\n",
    "    ratings_df=ratings,\n",
    "    movies_csv_path=\"data/ml-latest-small/movies.csv\",\n",
    "    movie_ids_map=movie_ids_map\n",
    ")"
   ]
  },
  {
   "cell_type": "code",
   "execution_count": 14,
   "metadata": {},
   "outputs": [
    {
     "data": {
      "text/plain": [
       "0        1335139641\n",
       "1         978465565\n",
       "2        1498524542\n",
       "3         996262677\n",
       "4        1158989841\n",
       "            ...    \n",
       "10079    1479544170\n",
       "10080    1493850187\n",
       "10081    1479542491\n",
       "10082    1493847704\n",
       "10083    1479544998\n",
       "Name: timestamp, Length: 100836, dtype: int64"
      ]
     },
     "execution_count": 14,
     "metadata": {},
     "output_type": "execute_result"
    }
   ],
   "source": [
    "dataset['timestamp']"
   ]
  },
  {
   "cell_type": "markdown",
   "metadata": {},
   "source": [
    "## Matrix Factorization with Keras"
   ]
  },
  {
   "cell_type": "markdown",
   "metadata": {},
   "source": [
    "Keras is a python library made for easily designing complex models such as deep learning models, in this module we are going to use just a few features from it to implement our simple matrix factorization model, as it makes a good introduction to the library before the next module about deep learning where you will also be using Keras.\n",
    "\n",
    "The following function `get_mf_model` implements the model described in equation (2) in Koren's paper (without the $+\\lambda(\\ldots)$ part for the moment). So it basically tries to find the $p_u \\in \\mathbb{R}^k$ and $q_i \\in \\mathbb{R}^k$ vectors that minimizes the squared loss between their dot product $p_u^Tq_i$, and the observed ratings $r_{ui}$, from random initialization of $p_u$ and $q_i$. In machine learning terms, $p_u$ and $q_i$ are called the *embeddings* of the user $u$ and of the movie $i$ respectively. Their size $k$ is an hyper-parameter of the model, which is called the *rank* of the factorization.\n",
    "\n",
    "To do so, it uses the functional API from Keras (the other API proposed is the sequential one, but is not adapted for this model), you can read about it here : https://keras.io/guides/functional_api/ .\n",
    "\n",
    "Keras, unlike Numpy, uses a different progamming paradigm. Numpy uses an *imperative* programming style (like python in general), meaning that when you execute `x.dot(y)`, the dot product is actually calculated. Keras however, uses a *declarative* (also called *symbolic*) programming style, meaning that when you write `Dot()([x, y])`, you tell Keras than when you will call the *fit* function of your model in the future, you will want to do a dot product between the future values that *x* and *y* will have. And this is what Keras is about, it allows you to build your own model as a sequence of operations, describing each input and output, and then later fit it and predict with it.\n",
    "\n",
    "Let's not get in too many details, but retain that the `get_mf_model` function below is not actually executing the model, it creates it, and returns an object of the class `keras.models.Model` that has been instructed with your model operations, and this object can then be trained with the classic `fit` and `predict` functions. \n",
    "\n",
    "Read carefully the comments in the code of the function to understand the different steps in the model creation process:"
   ]
  },
  {
   "cell_type": "code",
   "execution_count": 15,
   "metadata": {},
   "outputs": [],
   "source": [
    "from keras.models import Model\n",
    "from keras.layers import Embedding, Input, Reshape\n",
    "from keras.layers import Dot\n",
    "\n",
    "def get_mf_model(nb_users, nb_movies, k):\n",
    "    \"\"\"\n",
    "    Build a simple matrix factorization model from\n",
    "    the number of user, the number of movies, and the size of the embeddings k.\n",
    "    \n",
    "    Input:\n",
    "        nb_users : int : The number of unique users\n",
    "        nb_movies : int : The number of unique movies\n",
    "        k : int : The size of the embeddings\n",
    "        \n",
    "    Output:\n",
    "        model : keras.models.Model : A keras model that implements matrix factorization\n",
    "        \n",
    "    \"\"\"\n",
    "    dim_embedddings = k\n",
    "    \n",
    "    #Inputs:\n",
    "    #First we describe the input of the model, that is the training data that we will give it as X\n",
    "    #In our case, the input are just the user index u and the movie index i.\n",
    "    #So we declare two inputs of size one:\n",
    "    u = Input(shape=(1,), dtype='int32', name = \"u__user_id\")\n",
    "    i = Input(shape=(1,), dtype='int32', name = 'i__movie_id')\n",
    "    \n",
    "    #Then let's declare our variable, the embeddings p and q.\n",
    "    #First with the users, we declare that we have nb_users embeddings, each of size dim_embeddings.\n",
    "    #An embedding object is indexed by calling it with the index parameter like a function,\n",
    "    #so we add a `(u)` at the end to tell keras we want it to be indexed \n",
    "    #by the user ids we will pass at training time as inputs.\n",
    "    p_u = Embedding(nb_users, dim_embedddings, name=\"p_u__user_embedding\")(u)\n",
    "    \n",
    "    #Unfortunatly, when indexing an embeddings it keeps [1,k] matrix shape instead\n",
    "    #of just a [k] vector, so we have to tell Keras that we just want a vector by\n",
    "    #redefining its shape:\n",
    "    p_u = Reshape((dim_embedddings,), name=\"p_u__user_embedding_reshaped\")(p_u)\n",
    "    \n",
    "    # Same thing for the movie embeddings:\n",
    "    q_i = Embedding(nb_movies, dim_embedddings, name=\"q_i__movie_embedding\")(i)\n",
    "    q_i = Reshape((dim_embedddings,), name=\"q_i__movie_embedding_reshaped\")(q_i)\n",
    "    \n",
    "    #Then the dot product between the two indexed embeddings, \n",
    "    #we'll understand the axes = 1 part later.\n",
    "    r_hat = Dot(axes = 1)([q_i, p_u])\n",
    "\n",
    "    #We define our model by giving its input and outputs, in our case\n",
    "    #the user and movie ids will be the inputs, and the output will be\n",
    "    #the estimated rating r_hat, that is the dot product of the \n",
    "    #corresponding embeddings.\n",
    "    model = Model(inputs=[u, i], outputs=r_hat)\n",
    "    \n",
    "    #Finally, we define the loss and metric to use, in our case the mean squared error,\n",
    "    #along with the optimization method, we'll understand what is 'adam' later also.\n",
    "    model.compile(loss='mse', optimizer='adam', metrics=[\"mse\"])\n",
    "\n",
    "    return model\n",
    "\n"
   ]
  },
  {
   "cell_type": "code",
   "execution_count": 16,
   "metadata": {},
   "outputs": [
    {
     "data": {
      "text/plain": [
       "610"
      ]
     },
     "execution_count": 16,
     "metadata": {},
     "output_type": "execute_result"
    }
   ],
   "source": [
    "nb_users"
   ]
  },
  {
   "cell_type": "code",
   "execution_count": 17,
   "metadata": {},
   "outputs": [],
   "source": [
    "k = 30\n",
    "mf_model = get_mf_model(nb_users, nb_movies, k)"
   ]
  },
  {
   "cell_type": "markdown",
   "metadata": {},
   "source": [
    "Keras allows us to have a textual overview of the model we defined with the *summary()* function:"
   ]
  },
  {
   "cell_type": "code",
   "execution_count": 18,
   "metadata": {},
   "outputs": [
    {
     "data": {
      "text/html": [
       "<pre style=\"white-space:pre;overflow-x:auto;line-height:normal;font-family:Menlo,'DejaVu Sans Mono',consolas,'Courier New',monospace\"><span style=\"font-weight: bold\">Model: \"functional\"</span>\n",
       "</pre>\n"
      ],
      "text/plain": [
       "\u001b[1mModel: \"functional\"\u001b[0m\n"
      ]
     },
     "metadata": {},
     "output_type": "display_data"
    },
    {
     "data": {
      "text/html": [
       "<pre style=\"white-space:pre;overflow-x:auto;line-height:normal;font-family:Menlo,'DejaVu Sans Mono',consolas,'Courier New',monospace\">┏━━━━━━━━━━━━━━━━━━━━━┳━━━━━━━━━━━━━━━━━━━┳━━━━━━━━━━━━┳━━━━━━━━━━━━━━━━━━━┓\n",
       "┃<span style=\"font-weight: bold\"> Layer (type)        </span>┃<span style=\"font-weight: bold\"> Output Shape      </span>┃<span style=\"font-weight: bold\">    Param # </span>┃<span style=\"font-weight: bold\"> Connected to      </span>┃\n",
       "┡━━━━━━━━━━━━━━━━━━━━━╇━━━━━━━━━━━━━━━━━━━╇━━━━━━━━━━━━╇━━━━━━━━━━━━━━━━━━━┩\n",
       "│ i__movie_id         │ (<span style=\"color: #00d7ff; text-decoration-color: #00d7ff\">None</span>, <span style=\"color: #00af00; text-decoration-color: #00af00\">1</span>)         │          <span style=\"color: #00af00; text-decoration-color: #00af00\">0</span> │ -                 │\n",
       "│ (<span style=\"color: #0087ff; text-decoration-color: #0087ff\">InputLayer</span>)        │                   │            │                   │\n",
       "├─────────────────────┼───────────────────┼────────────┼───────────────────┤\n",
       "│ u__user_id          │ (<span style=\"color: #00d7ff; text-decoration-color: #00d7ff\">None</span>, <span style=\"color: #00af00; text-decoration-color: #00af00\">1</span>)         │          <span style=\"color: #00af00; text-decoration-color: #00af00\">0</span> │ -                 │\n",
       "│ (<span style=\"color: #0087ff; text-decoration-color: #0087ff\">InputLayer</span>)        │                   │            │                   │\n",
       "├─────────────────────┼───────────────────┼────────────┼───────────────────┤\n",
       "│ q_i__movie_embeddi… │ (<span style=\"color: #00d7ff; text-decoration-color: #00d7ff\">None</span>, <span style=\"color: #00af00; text-decoration-color: #00af00\">1</span>, <span style=\"color: #00af00; text-decoration-color: #00af00\">30</span>)     │    <span style=\"color: #00af00; text-decoration-color: #00af00\">291,720</span> │ i__movie_id[<span style=\"color: #00af00; text-decoration-color: #00af00\">0</span>][<span style=\"color: #00af00; text-decoration-color: #00af00\">0</span>] │\n",
       "│ (<span style=\"color: #0087ff; text-decoration-color: #0087ff\">Embedding</span>)         │                   │            │                   │\n",
       "├─────────────────────┼───────────────────┼────────────┼───────────────────┤\n",
       "│ p_u__user_embedding │ (<span style=\"color: #00d7ff; text-decoration-color: #00d7ff\">None</span>, <span style=\"color: #00af00; text-decoration-color: #00af00\">1</span>, <span style=\"color: #00af00; text-decoration-color: #00af00\">30</span>)     │     <span style=\"color: #00af00; text-decoration-color: #00af00\">18,300</span> │ u__user_id[<span style=\"color: #00af00; text-decoration-color: #00af00\">0</span>][<span style=\"color: #00af00; text-decoration-color: #00af00\">0</span>]  │\n",
       "│ (<span style=\"color: #0087ff; text-decoration-color: #0087ff\">Embedding</span>)         │                   │            │                   │\n",
       "├─────────────────────┼───────────────────┼────────────┼───────────────────┤\n",
       "│ q_i__movie_embeddi… │ (<span style=\"color: #00d7ff; text-decoration-color: #00d7ff\">None</span>, <span style=\"color: #00af00; text-decoration-color: #00af00\">30</span>)        │          <span style=\"color: #00af00; text-decoration-color: #00af00\">0</span> │ q_i__movie_embed… │\n",
       "│ (<span style=\"color: #0087ff; text-decoration-color: #0087ff\">Reshape</span>)           │                   │            │                   │\n",
       "├─────────────────────┼───────────────────┼────────────┼───────────────────┤\n",
       "│ p_u__user_embeddin… │ (<span style=\"color: #00d7ff; text-decoration-color: #00d7ff\">None</span>, <span style=\"color: #00af00; text-decoration-color: #00af00\">30</span>)        │          <span style=\"color: #00af00; text-decoration-color: #00af00\">0</span> │ p_u__user_embedd… │\n",
       "│ (<span style=\"color: #0087ff; text-decoration-color: #0087ff\">Reshape</span>)           │                   │            │                   │\n",
       "├─────────────────────┼───────────────────┼────────────┼───────────────────┤\n",
       "│ dot (<span style=\"color: #0087ff; text-decoration-color: #0087ff\">Dot</span>)           │ (<span style=\"color: #00d7ff; text-decoration-color: #00d7ff\">None</span>, <span style=\"color: #00af00; text-decoration-color: #00af00\">1</span>)         │          <span style=\"color: #00af00; text-decoration-color: #00af00\">0</span> │ q_i__movie_embed… │\n",
       "│                     │                   │            │ p_u__user_embedd… │\n",
       "└─────────────────────┴───────────────────┴────────────┴───────────────────┘\n",
       "</pre>\n"
      ],
      "text/plain": [
       "┏━━━━━━━━━━━━━━━━━━━━━┳━━━━━━━━━━━━━━━━━━━┳━━━━━━━━━━━━┳━━━━━━━━━━━━━━━━━━━┓\n",
       "┃\u001b[1m \u001b[0m\u001b[1mLayer (type)       \u001b[0m\u001b[1m \u001b[0m┃\u001b[1m \u001b[0m\u001b[1mOutput Shape     \u001b[0m\u001b[1m \u001b[0m┃\u001b[1m \u001b[0m\u001b[1m   Param #\u001b[0m\u001b[1m \u001b[0m┃\u001b[1m \u001b[0m\u001b[1mConnected to     \u001b[0m\u001b[1m \u001b[0m┃\n",
       "┡━━━━━━━━━━━━━━━━━━━━━╇━━━━━━━━━━━━━━━━━━━╇━━━━━━━━━━━━╇━━━━━━━━━━━━━━━━━━━┩\n",
       "│ i__movie_id         │ (\u001b[38;5;45mNone\u001b[0m, \u001b[38;5;34m1\u001b[0m)         │          \u001b[38;5;34m0\u001b[0m │ -                 │\n",
       "│ (\u001b[38;5;33mInputLayer\u001b[0m)        │                   │            │                   │\n",
       "├─────────────────────┼───────────────────┼────────────┼───────────────────┤\n",
       "│ u__user_id          │ (\u001b[38;5;45mNone\u001b[0m, \u001b[38;5;34m1\u001b[0m)         │          \u001b[38;5;34m0\u001b[0m │ -                 │\n",
       "│ (\u001b[38;5;33mInputLayer\u001b[0m)        │                   │            │                   │\n",
       "├─────────────────────┼───────────────────┼────────────┼───────────────────┤\n",
       "│ q_i__movie_embeddi… │ (\u001b[38;5;45mNone\u001b[0m, \u001b[38;5;34m1\u001b[0m, \u001b[38;5;34m30\u001b[0m)     │    \u001b[38;5;34m291,720\u001b[0m │ i__movie_id[\u001b[38;5;34m0\u001b[0m][\u001b[38;5;34m0\u001b[0m] │\n",
       "│ (\u001b[38;5;33mEmbedding\u001b[0m)         │                   │            │                   │\n",
       "├─────────────────────┼───────────────────┼────────────┼───────────────────┤\n",
       "│ p_u__user_embedding │ (\u001b[38;5;45mNone\u001b[0m, \u001b[38;5;34m1\u001b[0m, \u001b[38;5;34m30\u001b[0m)     │     \u001b[38;5;34m18,300\u001b[0m │ u__user_id[\u001b[38;5;34m0\u001b[0m][\u001b[38;5;34m0\u001b[0m]  │\n",
       "│ (\u001b[38;5;33mEmbedding\u001b[0m)         │                   │            │                   │\n",
       "├─────────────────────┼───────────────────┼────────────┼───────────────────┤\n",
       "│ q_i__movie_embeddi… │ (\u001b[38;5;45mNone\u001b[0m, \u001b[38;5;34m30\u001b[0m)        │          \u001b[38;5;34m0\u001b[0m │ q_i__movie_embed… │\n",
       "│ (\u001b[38;5;33mReshape\u001b[0m)           │                   │            │                   │\n",
       "├─────────────────────┼───────────────────┼────────────┼───────────────────┤\n",
       "│ p_u__user_embeddin… │ (\u001b[38;5;45mNone\u001b[0m, \u001b[38;5;34m30\u001b[0m)        │          \u001b[38;5;34m0\u001b[0m │ p_u__user_embedd… │\n",
       "│ (\u001b[38;5;33mReshape\u001b[0m)           │                   │            │                   │\n",
       "├─────────────────────┼───────────────────┼────────────┼───────────────────┤\n",
       "│ dot (\u001b[38;5;33mDot\u001b[0m)           │ (\u001b[38;5;45mNone\u001b[0m, \u001b[38;5;34m1\u001b[0m)         │          \u001b[38;5;34m0\u001b[0m │ q_i__movie_embed… │\n",
       "│                     │                   │            │ p_u__user_embedd… │\n",
       "└─────────────────────┴───────────────────┴────────────┴───────────────────┘\n"
      ]
     },
     "metadata": {},
     "output_type": "display_data"
    },
    {
     "data": {
      "text/html": [
       "<pre style=\"white-space:pre;overflow-x:auto;line-height:normal;font-family:Menlo,'DejaVu Sans Mono',consolas,'Courier New',monospace\"><span style=\"font-weight: bold\"> Total params: </span><span style=\"color: #00af00; text-decoration-color: #00af00\">310,020</span> (1.18 MB)\n",
       "</pre>\n"
      ],
      "text/plain": [
       "\u001b[1m Total params: \u001b[0m\u001b[38;5;34m310,020\u001b[0m (1.18 MB)\n"
      ]
     },
     "metadata": {},
     "output_type": "display_data"
    },
    {
     "data": {
      "text/html": [
       "<pre style=\"white-space:pre;overflow-x:auto;line-height:normal;font-family:Menlo,'DejaVu Sans Mono',consolas,'Courier New',monospace\"><span style=\"font-weight: bold\"> Trainable params: </span><span style=\"color: #00af00; text-decoration-color: #00af00\">310,020</span> (1.18 MB)\n",
       "</pre>\n"
      ],
      "text/plain": [
       "\u001b[1m Trainable params: \u001b[0m\u001b[38;5;34m310,020\u001b[0m (1.18 MB)\n"
      ]
     },
     "metadata": {},
     "output_type": "display_data"
    },
    {
     "data": {
      "text/html": [
       "<pre style=\"white-space:pre;overflow-x:auto;line-height:normal;font-family:Menlo,'DejaVu Sans Mono',consolas,'Courier New',monospace\"><span style=\"font-weight: bold\"> Non-trainable params: </span><span style=\"color: #00af00; text-decoration-color: #00af00\">0</span> (0.00 B)\n",
       "</pre>\n"
      ],
      "text/plain": [
       "\u001b[1m Non-trainable params: \u001b[0m\u001b[38;5;34m0\u001b[0m (0.00 B)\n"
      ]
     },
     "metadata": {},
     "output_type": "display_data"
    }
   ],
   "source": [
    "mf_model.summary()"
   ]
  },
  {
   "cell_type": "markdown",
   "metadata": {},
   "source": [
    "Each of the keras objects we defined in our model is called a *layer*, and we find them in order in the first column. The *Param #* column gives the number of trainable parameters of the layer, in our case these are just the embeddings, and they should be equal to $nb\\_users \\times k$ and $nb\\_movies \\times k$. The *Connected to* column tells for each layer which layers are inputs for this layer (you can safely ignore the `[0][0]` for this module).\n",
    "\n",
    "Finally the *Output Shape* column gives us the shape of the layer, each layer being a *tensor*. A tensor is the generalization of matrices to more than two dimensions. So a matrix is a 2D-tensor and a vector is a 1D-tensor, and each layer can be a matrix, a vector, or a higher-order tensor. The output shape we see is indeed the expected one at each layer, except there is this `None` in first dimension, why is that ?\n",
    "\n",
    "To understand it, we have to get into how Keras is actually minimizing the mean squared loss of our model. In general, when in comes to minimizing error functions on big datasets, a generic method is to use Stocastic Gradient Descent (SGD), briefly described in page 4 of Koren's article. \n",
    "\n",
    "Read about gradient descent, SGD and its variant mini-batch SGD in Chapter 4 of *Hands on ML ...* (pages 111-120):\n",
    "https://drive.google.com/file/d/1t0rc3x5YQBgLXVLET6BzR4jn5vzMI_m0/view?usp=sharing\n",
    "\n",
    "This is what Keras does when it fits the model, it initializes the $q_i$ and $p_u$ embedding vectors randomly, and then perform mini-batch SGD to find the minimum mean squared error on the training set. Since mini-batching means considering multiple training samples at the same time, Keras keeps the first dimension of each layer to stack the samples of each batch, this is why `None` is written, the actual batch_size being set at training time when calling the `fit` function. This is also why we had to set `axes=1` when calling the `Dot` layer in the `get_mf_model` function, because the first dimension (axe 0) of each layer is kept for the batches. And about the `optimizer='adam'`, it is just a variation of mini-batch SGD that is faster, we'll get into more details about SGD variations in the optional parts of this notebook."
   ]
  },
  {
   "cell_type": "markdown",
   "metadata": {},
   "source": [
    "Let's finally train our matrix factorization model on our movieLens data. The `epochs` parameter controls the number of iterations of the SGD algorithm, that is the number of times it is going to pass on each training rating and update the embeddings accordingly. Let's keep it at 20 for the moment:"
   ]
  },
  {
   "cell_type": "code",
   "execution_count": 19,
   "metadata": {
    "scrolled": true
   },
   "outputs": [
    {
     "name": "stdout",
     "output_type": "stream",
     "text": [
      "Epoch 1/20\n",
      "\u001b[1m178/178\u001b[0m \u001b[32m━━━━━━━━━━━━━━━━━━━━\u001b[0m\u001b[37m\u001b[0m \u001b[1m3s\u001b[0m 4ms/step - loss: 13.3366 - mse: 13.3366\n",
      "Epoch 2/20\n",
      "\u001b[1m178/178\u001b[0m \u001b[32m━━━━━━━━━━━━━━━━━━━━\u001b[0m\u001b[37m\u001b[0m \u001b[1m1s\u001b[0m 3ms/step - loss: 11.1041 - mse: 11.1041\n",
      "Epoch 3/20\n",
      "\u001b[1m178/178\u001b[0m \u001b[32m━━━━━━━━━━━━━━━━━━━━\u001b[0m\u001b[37m\u001b[0m \u001b[1m1s\u001b[0m 3ms/step - loss: 4.5306 - mse: 4.5306\n",
      "Epoch 4/20\n",
      "\u001b[1m178/178\u001b[0m \u001b[32m━━━━━━━━━━━━━━━━━━━━\u001b[0m\u001b[37m\u001b[0m \u001b[1m1s\u001b[0m 3ms/step - loss: 2.3689 - mse: 2.3689\n",
      "Epoch 5/20\n",
      "\u001b[1m178/178\u001b[0m \u001b[32m━━━━━━━━━━━━━━━━━━━━\u001b[0m\u001b[37m\u001b[0m \u001b[1m1s\u001b[0m 3ms/step - loss: 1.6489 - mse: 1.6489\n",
      "Epoch 6/20\n",
      "\u001b[1m178/178\u001b[0m \u001b[32m━━━━━━━━━━━━━━━━━━━━\u001b[0m\u001b[37m\u001b[0m \u001b[1m1s\u001b[0m 3ms/step - loss: 1.2924 - mse: 1.2924\n",
      "Epoch 7/20\n",
      "\u001b[1m178/178\u001b[0m \u001b[32m━━━━━━━━━━━━━━━━━━━━\u001b[0m\u001b[37m\u001b[0m \u001b[1m1s\u001b[0m 3ms/step - loss: 1.0831 - mse: 1.0831\n",
      "Epoch 8/20\n",
      "\u001b[1m178/178\u001b[0m \u001b[32m━━━━━━━━━━━━━━━━━━━━\u001b[0m\u001b[37m\u001b[0m \u001b[1m1s\u001b[0m 3ms/step - loss: 0.9479 - mse: 0.9479\n",
      "Epoch 9/20\n",
      "\u001b[1m178/178\u001b[0m \u001b[32m━━━━━━━━━━━━━━━━━━━━\u001b[0m\u001b[37m\u001b[0m \u001b[1m1s\u001b[0m 3ms/step - loss: 0.8544 - mse: 0.8544\n",
      "Epoch 10/20\n",
      "\u001b[1m178/178\u001b[0m \u001b[32m━━━━━━━━━━━━━━━━━━━━\u001b[0m\u001b[37m\u001b[0m \u001b[1m1s\u001b[0m 3ms/step - loss: 0.7876 - mse: 0.7876\n",
      "Epoch 11/20\n",
      "\u001b[1m178/178\u001b[0m \u001b[32m━━━━━━━━━━━━━━━━━━━━\u001b[0m\u001b[37m\u001b[0m \u001b[1m1s\u001b[0m 3ms/step - loss: 0.7375 - mse: 0.7375\n",
      "Epoch 12/20\n",
      "\u001b[1m178/178\u001b[0m \u001b[32m━━━━━━━━━━━━━━━━━━━━\u001b[0m\u001b[37m\u001b[0m \u001b[1m1s\u001b[0m 3ms/step - loss: 0.6986 - mse: 0.6986\n",
      "Epoch 13/20\n",
      "\u001b[1m178/178\u001b[0m \u001b[32m━━━━━━━━━━━━━━━━━━━━\u001b[0m\u001b[37m\u001b[0m \u001b[1m1s\u001b[0m 3ms/step - loss: 0.6674 - mse: 0.6674\n",
      "Epoch 14/20\n",
      "\u001b[1m178/178\u001b[0m \u001b[32m━━━━━━━━━━━━━━━━━━━━\u001b[0m\u001b[37m\u001b[0m \u001b[1m1s\u001b[0m 3ms/step - loss: 0.6424 - mse: 0.6424\n",
      "Epoch 15/20\n",
      "\u001b[1m178/178\u001b[0m \u001b[32m━━━━━━━━━━━━━━━━━━━━\u001b[0m\u001b[37m\u001b[0m \u001b[1m1s\u001b[0m 3ms/step - loss: 0.6206 - mse: 0.6206\n",
      "Epoch 16/20\n",
      "\u001b[1m178/178\u001b[0m \u001b[32m━━━━━━━━━━━━━━━━━━━━\u001b[0m\u001b[37m\u001b[0m \u001b[1m1s\u001b[0m 4ms/step - loss: 0.6016 - mse: 0.6016\n",
      "Epoch 17/20\n",
      "\u001b[1m178/178\u001b[0m \u001b[32m━━━━━━━━━━━━━━━━━━━━\u001b[0m\u001b[37m\u001b[0m \u001b[1m1s\u001b[0m 4ms/step - loss: 0.5848 - mse: 0.5848\n",
      "Epoch 18/20\n",
      "\u001b[1m178/178\u001b[0m \u001b[32m━━━━━━━━━━━━━━━━━━━━\u001b[0m\u001b[37m\u001b[0m \u001b[1m1s\u001b[0m 3ms/step - loss: 0.5695 - mse: 0.5695\n",
      "Epoch 19/20\n",
      "\u001b[1m178/178\u001b[0m \u001b[32m━━━━━━━━━━━━━━━━━━━━\u001b[0m\u001b[37m\u001b[0m \u001b[1m0s\u001b[0m 3ms/step - loss: 0.5547 - mse: 0.5547\n",
      "Epoch 20/20\n",
      "\u001b[1m178/178\u001b[0m \u001b[32m━━━━━━━━━━━━━━━━━━━━\u001b[0m\u001b[37m\u001b[0m \u001b[1m1s\u001b[0m 4ms/step - loss: 0.5406 - mse: 0.5406\n"
     ]
    }
   ],
   "source": [
    "history = mf_model.fit(X_train, y_train, epochs=20, batch_size=512)"
   ]
  },
  {
   "cell_type": "markdown",
   "metadata": {},
   "source": [
    "NB : on remarque que loss et MSE diminuent régulièrement — c’est exactement ce qu’on veut observer.\n",
    "Le modèle est bien en train de minimiser la fonction de perte grâce à la descente de gradient.  \n",
    "Pour un MSE de 0.53 (dernier bacth) cela veut dire qu'on aura un RMSE de 0.73 => sqrt(MSE). le oèdle se trompe donc d'environ 70% ce qui est relativement correct pour un modèle MF basique sans biais ni régularisation. "
   ]
  },
  {
   "cell_type": "markdown",
   "metadata": {},
   "source": [
    "And we can now try to predict the test ratings, and report our root mean squared error like in other regression problems:"
   ]
  },
  {
   "cell_type": "code",
   "execution_count": 20,
   "metadata": {},
   "outputs": [
    {
     "name": "stdout",
     "output_type": "stream",
     "text": [
      "\u001b[1m2836/2836\u001b[0m \u001b[32m━━━━━━━━━━━━━━━━━━━━\u001b[0m\u001b[37m\u001b[0m \u001b[1m4s\u001b[0m 1ms/step\n",
      "\u001b[1m316/316\u001b[0m \u001b[32m━━━━━━━━━━━━━━━━━━━━\u001b[0m\u001b[37m\u001b[0m \u001b[1m1s\u001b[0m 2ms/step\n",
      " Test RMSE : 1.1064796277679998 \n",
      " Train RMSE : 0.7132021145173968 \n",
      "On remarque que le RMSE de Train est trés nettement inférieur au RMSE de Test, le modèle est en sur-apprentissage (overfitting)\n"
     ]
    }
   ],
   "source": [
    "from sklearn.metrics import mean_squared_error\n",
    "from math import sqrt\n",
    "\n",
    "y_train_pred = mf_model.predict(X_train)\n",
    "y_pred = mf_model.predict(X_test)\n",
    "\n",
    "train_rmse = sqrt(mean_squared_error(y_train, y_train_pred))\n",
    "test_rmse = sqrt(mean_squared_error(y_test, y_pred))\n",
    "\n",
    "print(\" Test RMSE : %s \" % test_rmse)\n",
    "print(\" Train RMSE : %s \" % train_rmse)\n",
    "print(\"On remarque que le RMSE de Train est trés nettement inférieur au RMSE de Test, le modèle est en sur-apprentissage (overfitting)\")\n"
   ]
  },
  {
   "cell_type": "markdown",
   "metadata": {},
   "source": [
    "You should get about 1.1/1.2 RMSE, we can probably do better !"
   ]
  },
  {
   "cell_type": "markdown",
   "metadata": {},
   "source": [
    "## Train the same model on your GPU and on your CPU, and compare the training time"
   ]
  },
  {
   "cell_type": "markdown",
   "metadata": {},
   "source": [
    "Keras uses the `tensorflow` python library for the computation part, if you have installed your GPU drivers and the GPU version of keras, then it will run on your GPU by default. We can force tensorflow to use the cpu instead:"
   ]
  },
  {
   "cell_type": "code",
   "execution_count": 21,
   "metadata": {},
   "outputs": [
    {
     "name": "stdout",
     "output_type": "stream",
     "text": [
      "Epoch 1/20\n",
      "\u001b[1m178/178\u001b[0m \u001b[32m━━━━━━━━━━━━━━━━━━━━\u001b[0m\u001b[37m\u001b[0m \u001b[1m2s\u001b[0m 4ms/step - loss: 13.3260 - mse: 13.3260\n",
      "Epoch 2/20\n",
      "\u001b[1m178/178\u001b[0m \u001b[32m━━━━━━━━━━━━━━━━━━━━\u001b[0m\u001b[37m\u001b[0m \u001b[1m0s\u001b[0m 2ms/step - loss: 10.7198 - mse: 10.7198\n",
      "Epoch 3/20\n",
      "\u001b[1m178/178\u001b[0m \u001b[32m━━━━━━━━━━━━━━━━━━━━\u001b[0m\u001b[37m\u001b[0m \u001b[1m1s\u001b[0m 3ms/step - loss: 4.2851 - mse: 4.2851\n",
      "Epoch 4/20\n",
      "\u001b[1m178/178\u001b[0m \u001b[32m━━━━━━━━━━━━━━━━━━━━\u001b[0m\u001b[37m\u001b[0m \u001b[1m1s\u001b[0m 3ms/step - loss: 2.3113 - mse: 2.3113\n",
      "Epoch 5/20\n",
      "\u001b[1m178/178\u001b[0m \u001b[32m━━━━━━━━━━━━━━━━━━━━\u001b[0m\u001b[37m\u001b[0m \u001b[1m1s\u001b[0m 3ms/step - loss: 1.6336 - mse: 1.6336\n",
      "Epoch 6/20\n",
      "\u001b[1m178/178\u001b[0m \u001b[32m━━━━━━━━━━━━━━━━━━━━\u001b[0m\u001b[37m\u001b[0m \u001b[1m1s\u001b[0m 4ms/step - loss: 1.2949 - mse: 1.2949\n",
      "Epoch 7/20\n",
      "\u001b[1m178/178\u001b[0m \u001b[32m━━━━━━━━━━━━━━━━━━━━\u001b[0m\u001b[37m\u001b[0m \u001b[1m1s\u001b[0m 4ms/step - loss: 1.0939 - mse: 1.0939\n",
      "Epoch 8/20\n",
      "\u001b[1m178/178\u001b[0m \u001b[32m━━━━━━━━━━━━━━━━━━━━\u001b[0m\u001b[37m\u001b[0m \u001b[1m1s\u001b[0m 4ms/step - loss: 0.9626 - mse: 0.9626\n",
      "Epoch 9/20\n",
      "\u001b[1m178/178\u001b[0m \u001b[32m━━━━━━━━━━━━━━━━━━━━\u001b[0m\u001b[37m\u001b[0m \u001b[1m1s\u001b[0m 3ms/step - loss: 0.8708 - mse: 0.8708\n",
      "Epoch 10/20\n",
      "\u001b[1m178/178\u001b[0m \u001b[32m━━━━━━━━━━━━━━━━━━━━\u001b[0m\u001b[37m\u001b[0m \u001b[1m1s\u001b[0m 4ms/step - loss: 0.8037 - mse: 0.8037\n",
      "Epoch 11/20\n",
      "\u001b[1m178/178\u001b[0m \u001b[32m━━━━━━━━━━━━━━━━━━━━\u001b[0m\u001b[37m\u001b[0m \u001b[1m1s\u001b[0m 3ms/step - loss: 0.7528 - mse: 0.7528\n",
      "Epoch 12/20\n",
      "\u001b[1m178/178\u001b[0m \u001b[32m━━━━━━━━━━━━━━━━━━━━\u001b[0m\u001b[37m\u001b[0m \u001b[1m1s\u001b[0m 4ms/step - loss: 0.7133 - mse: 0.7133\n",
      "Epoch 13/20\n",
      "\u001b[1m178/178\u001b[0m \u001b[32m━━━━━━━━━━━━━━━━━━━━\u001b[0m\u001b[37m\u001b[0m \u001b[1m1s\u001b[0m 4ms/step - loss: 0.6822 - mse: 0.6822\n",
      "Epoch 14/20\n",
      "\u001b[1m178/178\u001b[0m \u001b[32m━━━━━━━━━━━━━━━━━━━━\u001b[0m\u001b[37m\u001b[0m \u001b[1m1s\u001b[0m 4ms/step - loss: 0.6569 - mse: 0.6569\n",
      "Epoch 15/20\n",
      "\u001b[1m178/178\u001b[0m \u001b[32m━━━━━━━━━━━━━━━━━━━━\u001b[0m\u001b[37m\u001b[0m \u001b[1m1s\u001b[0m 3ms/step - loss: 0.6353 - mse: 0.6353\n",
      "Epoch 16/20\n",
      "\u001b[1m178/178\u001b[0m \u001b[32m━━━━━━━━━━━━━━━━━━━━\u001b[0m\u001b[37m\u001b[0m \u001b[1m1s\u001b[0m 3ms/step - loss: 0.6164 - mse: 0.6164\n",
      "Epoch 17/20\n",
      "\u001b[1m178/178\u001b[0m \u001b[32m━━━━━━━━━━━━━━━━━━━━\u001b[0m\u001b[37m\u001b[0m \u001b[1m1s\u001b[0m 4ms/step - loss: 0.6000 - mse: 0.6000\n",
      "Epoch 18/20\n",
      "\u001b[1m178/178\u001b[0m \u001b[32m━━━━━━━━━━━━━━━━━━━━\u001b[0m\u001b[37m\u001b[0m \u001b[1m1s\u001b[0m 4ms/step - loss: 0.5843 - mse: 0.5843\n",
      "Epoch 19/20\n",
      "\u001b[1m178/178\u001b[0m \u001b[32m━━━━━━━━━━━━━━━━━━━━\u001b[0m\u001b[37m\u001b[0m \u001b[1m1s\u001b[0m 4ms/step - loss: 0.5697 - mse: 0.5697\n",
      "Epoch 20/20\n",
      "\u001b[1m178/178\u001b[0m \u001b[32m━━━━━━━━━━━━━━━━━━━━\u001b[0m\u001b[37m\u001b[0m \u001b[1m1s\u001b[0m 4ms/step - loss: 0.5557 - mse: 0.5557\n"
     ]
    }
   ],
   "source": [
    "import tensorflow as tf\n",
    "\n",
    "with tf.device('/cpu:0'):\n",
    "    mf_model = get_mf_model(nb_users, nb_movies, k)\n",
    "    history = mf_model.fit(X_train, y_train, epochs=20, batch_size=512)"
   ]
  },
  {
   "cell_type": "markdown",
   "metadata": {},
   "source": [
    "Our matrix farctorization model is a really simple model, with not enough operations to parallelize on the GPU, this is why the training time is quite similar for this model. However with deep networks models the training time can be up to 10x times faster on a GPU."
   ]
  },
  {
   "cell_type": "code",
   "execution_count": 22,
   "metadata": {},
   "outputs": [
    {
     "name": "stdout",
     "output_type": "stream",
     "text": [
      "WARNING:tensorflow:From C:\\Users\\mvana\\AppData\\Local\\Temp\\ipykernel_21452\\337460670.py:1: is_gpu_available (from tensorflow.python.framework.test_util) is deprecated and will be removed in a future version.\n",
      "Instructions for updating:\n",
      "Use `tf.config.list_physical_devices('GPU')` instead.\n"
     ]
    },
    {
     "data": {
      "text/plain": [
       "False"
      ]
     },
     "execution_count": 22,
     "metadata": {},
     "output_type": "execute_result"
    }
   ],
   "source": [
    "tf.test.is_gpu_available()"
   ]
  },
  {
   "cell_type": "markdown",
   "metadata": {},
   "source": [
    "## Adding user and movie bias"
   ]
  },
  {
   "cell_type": "markdown",
   "metadata": {},
   "source": [
    "Let's enhance our matrix factorization model and add the user and movie biases to the rating estimation function as in equation (4) of Koren's paper ; except we will for the moment forget about the global bias $\\mu$ as it is not so intuitive to implement in Keras. Fill the function below to do so:"
   ]
  },
  {
   "cell_type": "code",
   "execution_count": 23,
   "metadata": {},
   "outputs": [],
   "source": [
    "from keras.layers import Add\n",
    "\n",
    "def get_mf_bias_model(nb_users, nb_movies, k):\n",
    "    \"\"\"\n",
    "    Build a smatrix factorization model with user and movie biases\n",
    "    \n",
    "    Input:\n",
    "        nb_users : int : The number of unique users\n",
    "        nb_movies : int : The number of unique movies\n",
    "        k : int : The size of the embeddings\n",
    "        \n",
    "    Output:\n",
    "        model : keras.models.Model : A keras model that implements matrix factorization with biases\n",
    "        \n",
    "    \"\"\"\n",
    "    \n",
    "    dim_embedddings = k\n",
    "    \n",
    "    # User embeddings\n",
    "    u = Input(shape=(1,), dtype='int32', name = 'u__user_id')\n",
    "    p_u = Embedding(nb_users, dim_embedddings, name=\"p_u__user_embedding\")(u)\n",
    "    p_u = Reshape((dim_embedddings,), name=\"p_u__user_embedding_reshaped\")(p_u)\n",
    "    \n",
    "    # Movie embeddings\n",
    "    i = Input(shape=(1,), dtype='int32', name = 'i__movie_id')\n",
    "    q_i = Embedding(nb_movies, dim_embedddings, name=\"q_i__movie_embedding\")(i)\n",
    "    q_i = Reshape((dim_embedddings,), name=\"q_i__movie_embedding_reshaped\")(q_i)\n",
    "    \n",
    "    # Dot product\n",
    "    d = Dot(axes = 1,name=\"dot_user_movie\")([p_u, q_i])\n",
    "    \n",
    "    \n",
    "     # --- Biais utilisateur/film ---\n",
    "    b_u = Embedding(nb_users, 1,\n",
    "                    name=\"b_u__user_bias\")(u)\n",
    "    b_u = Reshape((1,), name=\"b_u__user_bias_reshaped\")(b_u)\n",
    "\n",
    "    b_i = Embedding(nb_movies, 1,\n",
    "                    name=\"b_i__movie_bias\")(i)\n",
    "    b_i = Reshape((1,), name=\"b_i__movie_bias_reshaped\")(b_i)\n",
    "\n",
    "    pred = Add(name=\"add_biases\")([d, b_u, b_i])         # (batch, 1)\n",
    "\n",
    "    # --- Modèle + compile ---\n",
    "    model = Model(inputs=[u, i], outputs=pred, name=\"matrix_factorization_with_bias\")\n",
    "    model.compile(loss='mse', optimizer='adam', metrics=[\"mse\"])\n",
    "    \n",
    "    return model\n",
    "\n"
   ]
  },
  {
   "cell_type": "code",
   "execution_count": 24,
   "metadata": {},
   "outputs": [],
   "source": [
    "mf_bias_model = get_mf_bias_model(nb_users, nb_movies, k)"
   ]
  },
  {
   "cell_type": "code",
   "execution_count": 25,
   "metadata": {},
   "outputs": [
    {
     "data": {
      "text/html": [
       "<pre style=\"white-space:pre;overflow-x:auto;line-height:normal;font-family:Menlo,'DejaVu Sans Mono',consolas,'Courier New',monospace\"><span style=\"font-weight: bold\">Model: \"matrix_factorization_with_bias\"</span>\n",
       "</pre>\n"
      ],
      "text/plain": [
       "\u001b[1mModel: \"matrix_factorization_with_bias\"\u001b[0m\n"
      ]
     },
     "metadata": {},
     "output_type": "display_data"
    },
    {
     "data": {
      "text/html": [
       "<pre style=\"white-space:pre;overflow-x:auto;line-height:normal;font-family:Menlo,'DejaVu Sans Mono',consolas,'Courier New',monospace\">┏━━━━━━━━━━━━━━━━━━━━━┳━━━━━━━━━━━━━━━━━━━┳━━━━━━━━━━━━┳━━━━━━━━━━━━━━━━━━━┓\n",
       "┃<span style=\"font-weight: bold\"> Layer (type)        </span>┃<span style=\"font-weight: bold\"> Output Shape      </span>┃<span style=\"font-weight: bold\">    Param # </span>┃<span style=\"font-weight: bold\"> Connected to      </span>┃\n",
       "┡━━━━━━━━━━━━━━━━━━━━━╇━━━━━━━━━━━━━━━━━━━╇━━━━━━━━━━━━╇━━━━━━━━━━━━━━━━━━━┩\n",
       "│ u__user_id          │ (<span style=\"color: #00d7ff; text-decoration-color: #00d7ff\">None</span>, <span style=\"color: #00af00; text-decoration-color: #00af00\">1</span>)         │          <span style=\"color: #00af00; text-decoration-color: #00af00\">0</span> │ -                 │\n",
       "│ (<span style=\"color: #0087ff; text-decoration-color: #0087ff\">InputLayer</span>)        │                   │            │                   │\n",
       "├─────────────────────┼───────────────────┼────────────┼───────────────────┤\n",
       "│ i__movie_id         │ (<span style=\"color: #00d7ff; text-decoration-color: #00d7ff\">None</span>, <span style=\"color: #00af00; text-decoration-color: #00af00\">1</span>)         │          <span style=\"color: #00af00; text-decoration-color: #00af00\">0</span> │ -                 │\n",
       "│ (<span style=\"color: #0087ff; text-decoration-color: #0087ff\">InputLayer</span>)        │                   │            │                   │\n",
       "├─────────────────────┼───────────────────┼────────────┼───────────────────┤\n",
       "│ p_u__user_embedding │ (<span style=\"color: #00d7ff; text-decoration-color: #00d7ff\">None</span>, <span style=\"color: #00af00; text-decoration-color: #00af00\">1</span>, <span style=\"color: #00af00; text-decoration-color: #00af00\">30</span>)     │     <span style=\"color: #00af00; text-decoration-color: #00af00\">18,300</span> │ u__user_id[<span style=\"color: #00af00; text-decoration-color: #00af00\">0</span>][<span style=\"color: #00af00; text-decoration-color: #00af00\">0</span>]  │\n",
       "│ (<span style=\"color: #0087ff; text-decoration-color: #0087ff\">Embedding</span>)         │                   │            │                   │\n",
       "├─────────────────────┼───────────────────┼────────────┼───────────────────┤\n",
       "│ q_i__movie_embeddi… │ (<span style=\"color: #00d7ff; text-decoration-color: #00d7ff\">None</span>, <span style=\"color: #00af00; text-decoration-color: #00af00\">1</span>, <span style=\"color: #00af00; text-decoration-color: #00af00\">30</span>)     │    <span style=\"color: #00af00; text-decoration-color: #00af00\">291,720</span> │ i__movie_id[<span style=\"color: #00af00; text-decoration-color: #00af00\">0</span>][<span style=\"color: #00af00; text-decoration-color: #00af00\">0</span>] │\n",
       "│ (<span style=\"color: #0087ff; text-decoration-color: #0087ff\">Embedding</span>)         │                   │            │                   │\n",
       "├─────────────────────┼───────────────────┼────────────┼───────────────────┤\n",
       "│ p_u__user_embeddin… │ (<span style=\"color: #00d7ff; text-decoration-color: #00d7ff\">None</span>, <span style=\"color: #00af00; text-decoration-color: #00af00\">30</span>)        │          <span style=\"color: #00af00; text-decoration-color: #00af00\">0</span> │ p_u__user_embedd… │\n",
       "│ (<span style=\"color: #0087ff; text-decoration-color: #0087ff\">Reshape</span>)           │                   │            │                   │\n",
       "├─────────────────────┼───────────────────┼────────────┼───────────────────┤\n",
       "│ q_i__movie_embeddi… │ (<span style=\"color: #00d7ff; text-decoration-color: #00d7ff\">None</span>, <span style=\"color: #00af00; text-decoration-color: #00af00\">30</span>)        │          <span style=\"color: #00af00; text-decoration-color: #00af00\">0</span> │ q_i__movie_embed… │\n",
       "│ (<span style=\"color: #0087ff; text-decoration-color: #0087ff\">Reshape</span>)           │                   │            │                   │\n",
       "├─────────────────────┼───────────────────┼────────────┼───────────────────┤\n",
       "│ b_u__user_bias      │ (<span style=\"color: #00d7ff; text-decoration-color: #00d7ff\">None</span>, <span style=\"color: #00af00; text-decoration-color: #00af00\">1</span>, <span style=\"color: #00af00; text-decoration-color: #00af00\">1</span>)      │        <span style=\"color: #00af00; text-decoration-color: #00af00\">610</span> │ u__user_id[<span style=\"color: #00af00; text-decoration-color: #00af00\">0</span>][<span style=\"color: #00af00; text-decoration-color: #00af00\">0</span>]  │\n",
       "│ (<span style=\"color: #0087ff; text-decoration-color: #0087ff\">Embedding</span>)         │                   │            │                   │\n",
       "├─────────────────────┼───────────────────┼────────────┼───────────────────┤\n",
       "│ b_i__movie_bias     │ (<span style=\"color: #00d7ff; text-decoration-color: #00d7ff\">None</span>, <span style=\"color: #00af00; text-decoration-color: #00af00\">1</span>, <span style=\"color: #00af00; text-decoration-color: #00af00\">1</span>)      │      <span style=\"color: #00af00; text-decoration-color: #00af00\">9,724</span> │ i__movie_id[<span style=\"color: #00af00; text-decoration-color: #00af00\">0</span>][<span style=\"color: #00af00; text-decoration-color: #00af00\">0</span>] │\n",
       "│ (<span style=\"color: #0087ff; text-decoration-color: #0087ff\">Embedding</span>)         │                   │            │                   │\n",
       "├─────────────────────┼───────────────────┼────────────┼───────────────────┤\n",
       "│ dot_user_movie      │ (<span style=\"color: #00d7ff; text-decoration-color: #00d7ff\">None</span>, <span style=\"color: #00af00; text-decoration-color: #00af00\">1</span>)         │          <span style=\"color: #00af00; text-decoration-color: #00af00\">0</span> │ p_u__user_embedd… │\n",
       "│ (<span style=\"color: #0087ff; text-decoration-color: #0087ff\">Dot</span>)               │                   │            │ q_i__movie_embed… │\n",
       "├─────────────────────┼───────────────────┼────────────┼───────────────────┤\n",
       "│ b_u__user_bias_res… │ (<span style=\"color: #00d7ff; text-decoration-color: #00d7ff\">None</span>, <span style=\"color: #00af00; text-decoration-color: #00af00\">1</span>)         │          <span style=\"color: #00af00; text-decoration-color: #00af00\">0</span> │ b_u__user_bias[<span style=\"color: #00af00; text-decoration-color: #00af00\">0</span>… │\n",
       "│ (<span style=\"color: #0087ff; text-decoration-color: #0087ff\">Reshape</span>)           │                   │            │                   │\n",
       "├─────────────────────┼───────────────────┼────────────┼───────────────────┤\n",
       "│ b_i__movie_bias_re… │ (<span style=\"color: #00d7ff; text-decoration-color: #00d7ff\">None</span>, <span style=\"color: #00af00; text-decoration-color: #00af00\">1</span>)         │          <span style=\"color: #00af00; text-decoration-color: #00af00\">0</span> │ b_i__movie_bias[<span style=\"color: #00af00; text-decoration-color: #00af00\">…</span> │\n",
       "│ (<span style=\"color: #0087ff; text-decoration-color: #0087ff\">Reshape</span>)           │                   │            │                   │\n",
       "├─────────────────────┼───────────────────┼────────────┼───────────────────┤\n",
       "│ add_biases (<span style=\"color: #0087ff; text-decoration-color: #0087ff\">Add</span>)    │ (<span style=\"color: #00d7ff; text-decoration-color: #00d7ff\">None</span>, <span style=\"color: #00af00; text-decoration-color: #00af00\">1</span>)         │          <span style=\"color: #00af00; text-decoration-color: #00af00\">0</span> │ dot_user_movie[<span style=\"color: #00af00; text-decoration-color: #00af00\">0</span>… │\n",
       "│                     │                   │            │ b_u__user_bias_r… │\n",
       "│                     │                   │            │ b_i__movie_bias_… │\n",
       "└─────────────────────┴───────────────────┴────────────┴───────────────────┘\n",
       "</pre>\n"
      ],
      "text/plain": [
       "┏━━━━━━━━━━━━━━━━━━━━━┳━━━━━━━━━━━━━━━━━━━┳━━━━━━━━━━━━┳━━━━━━━━━━━━━━━━━━━┓\n",
       "┃\u001b[1m \u001b[0m\u001b[1mLayer (type)       \u001b[0m\u001b[1m \u001b[0m┃\u001b[1m \u001b[0m\u001b[1mOutput Shape     \u001b[0m\u001b[1m \u001b[0m┃\u001b[1m \u001b[0m\u001b[1m   Param #\u001b[0m\u001b[1m \u001b[0m┃\u001b[1m \u001b[0m\u001b[1mConnected to     \u001b[0m\u001b[1m \u001b[0m┃\n",
       "┡━━━━━━━━━━━━━━━━━━━━━╇━━━━━━━━━━━━━━━━━━━╇━━━━━━━━━━━━╇━━━━━━━━━━━━━━━━━━━┩\n",
       "│ u__user_id          │ (\u001b[38;5;45mNone\u001b[0m, \u001b[38;5;34m1\u001b[0m)         │          \u001b[38;5;34m0\u001b[0m │ -                 │\n",
       "│ (\u001b[38;5;33mInputLayer\u001b[0m)        │                   │            │                   │\n",
       "├─────────────────────┼───────────────────┼────────────┼───────────────────┤\n",
       "│ i__movie_id         │ (\u001b[38;5;45mNone\u001b[0m, \u001b[38;5;34m1\u001b[0m)         │          \u001b[38;5;34m0\u001b[0m │ -                 │\n",
       "│ (\u001b[38;5;33mInputLayer\u001b[0m)        │                   │            │                   │\n",
       "├─────────────────────┼───────────────────┼────────────┼───────────────────┤\n",
       "│ p_u__user_embedding │ (\u001b[38;5;45mNone\u001b[0m, \u001b[38;5;34m1\u001b[0m, \u001b[38;5;34m30\u001b[0m)     │     \u001b[38;5;34m18,300\u001b[0m │ u__user_id[\u001b[38;5;34m0\u001b[0m][\u001b[38;5;34m0\u001b[0m]  │\n",
       "│ (\u001b[38;5;33mEmbedding\u001b[0m)         │                   │            │                   │\n",
       "├─────────────────────┼───────────────────┼────────────┼───────────────────┤\n",
       "│ q_i__movie_embeddi… │ (\u001b[38;5;45mNone\u001b[0m, \u001b[38;5;34m1\u001b[0m, \u001b[38;5;34m30\u001b[0m)     │    \u001b[38;5;34m291,720\u001b[0m │ i__movie_id[\u001b[38;5;34m0\u001b[0m][\u001b[38;5;34m0\u001b[0m] │\n",
       "│ (\u001b[38;5;33mEmbedding\u001b[0m)         │                   │            │                   │\n",
       "├─────────────────────┼───────────────────┼────────────┼───────────────────┤\n",
       "│ p_u__user_embeddin… │ (\u001b[38;5;45mNone\u001b[0m, \u001b[38;5;34m30\u001b[0m)        │          \u001b[38;5;34m0\u001b[0m │ p_u__user_embedd… │\n",
       "│ (\u001b[38;5;33mReshape\u001b[0m)           │                   │            │                   │\n",
       "├─────────────────────┼───────────────────┼────────────┼───────────────────┤\n",
       "│ q_i__movie_embeddi… │ (\u001b[38;5;45mNone\u001b[0m, \u001b[38;5;34m30\u001b[0m)        │          \u001b[38;5;34m0\u001b[0m │ q_i__movie_embed… │\n",
       "│ (\u001b[38;5;33mReshape\u001b[0m)           │                   │            │                   │\n",
       "├─────────────────────┼───────────────────┼────────────┼───────────────────┤\n",
       "│ b_u__user_bias      │ (\u001b[38;5;45mNone\u001b[0m, \u001b[38;5;34m1\u001b[0m, \u001b[38;5;34m1\u001b[0m)      │        \u001b[38;5;34m610\u001b[0m │ u__user_id[\u001b[38;5;34m0\u001b[0m][\u001b[38;5;34m0\u001b[0m]  │\n",
       "│ (\u001b[38;5;33mEmbedding\u001b[0m)         │                   │            │                   │\n",
       "├─────────────────────┼───────────────────┼────────────┼───────────────────┤\n",
       "│ b_i__movie_bias     │ (\u001b[38;5;45mNone\u001b[0m, \u001b[38;5;34m1\u001b[0m, \u001b[38;5;34m1\u001b[0m)      │      \u001b[38;5;34m9,724\u001b[0m │ i__movie_id[\u001b[38;5;34m0\u001b[0m][\u001b[38;5;34m0\u001b[0m] │\n",
       "│ (\u001b[38;5;33mEmbedding\u001b[0m)         │                   │            │                   │\n",
       "├─────────────────────┼───────────────────┼────────────┼───────────────────┤\n",
       "│ dot_user_movie      │ (\u001b[38;5;45mNone\u001b[0m, \u001b[38;5;34m1\u001b[0m)         │          \u001b[38;5;34m0\u001b[0m │ p_u__user_embedd… │\n",
       "│ (\u001b[38;5;33mDot\u001b[0m)               │                   │            │ q_i__movie_embed… │\n",
       "├─────────────────────┼───────────────────┼────────────┼───────────────────┤\n",
       "│ b_u__user_bias_res… │ (\u001b[38;5;45mNone\u001b[0m, \u001b[38;5;34m1\u001b[0m)         │          \u001b[38;5;34m0\u001b[0m │ b_u__user_bias[\u001b[38;5;34m0\u001b[0m… │\n",
       "│ (\u001b[38;5;33mReshape\u001b[0m)           │                   │            │                   │\n",
       "├─────────────────────┼───────────────────┼────────────┼───────────────────┤\n",
       "│ b_i__movie_bias_re… │ (\u001b[38;5;45mNone\u001b[0m, \u001b[38;5;34m1\u001b[0m)         │          \u001b[38;5;34m0\u001b[0m │ b_i__movie_bias[\u001b[38;5;34m…\u001b[0m │\n",
       "│ (\u001b[38;5;33mReshape\u001b[0m)           │                   │            │                   │\n",
       "├─────────────────────┼───────────────────┼────────────┼───────────────────┤\n",
       "│ add_biases (\u001b[38;5;33mAdd\u001b[0m)    │ (\u001b[38;5;45mNone\u001b[0m, \u001b[38;5;34m1\u001b[0m)         │          \u001b[38;5;34m0\u001b[0m │ dot_user_movie[\u001b[38;5;34m0\u001b[0m… │\n",
       "│                     │                   │            │ b_u__user_bias_r… │\n",
       "│                     │                   │            │ b_i__movie_bias_… │\n",
       "└─────────────────────┴───────────────────┴────────────┴───────────────────┘\n"
      ]
     },
     "metadata": {},
     "output_type": "display_data"
    },
    {
     "data": {
      "text/html": [
       "<pre style=\"white-space:pre;overflow-x:auto;line-height:normal;font-family:Menlo,'DejaVu Sans Mono',consolas,'Courier New',monospace\"><span style=\"font-weight: bold\"> Total params: </span><span style=\"color: #00af00; text-decoration-color: #00af00\">320,354</span> (1.22 MB)\n",
       "</pre>\n"
      ],
      "text/plain": [
       "\u001b[1m Total params: \u001b[0m\u001b[38;5;34m320,354\u001b[0m (1.22 MB)\n"
      ]
     },
     "metadata": {},
     "output_type": "display_data"
    },
    {
     "data": {
      "text/html": [
       "<pre style=\"white-space:pre;overflow-x:auto;line-height:normal;font-family:Menlo,'DejaVu Sans Mono',consolas,'Courier New',monospace\"><span style=\"font-weight: bold\"> Trainable params: </span><span style=\"color: #00af00; text-decoration-color: #00af00\">320,354</span> (1.22 MB)\n",
       "</pre>\n"
      ],
      "text/plain": [
       "\u001b[1m Trainable params: \u001b[0m\u001b[38;5;34m320,354\u001b[0m (1.22 MB)\n"
      ]
     },
     "metadata": {},
     "output_type": "display_data"
    },
    {
     "data": {
      "text/html": [
       "<pre style=\"white-space:pre;overflow-x:auto;line-height:normal;font-family:Menlo,'DejaVu Sans Mono',consolas,'Courier New',monospace\"><span style=\"font-weight: bold\"> Non-trainable params: </span><span style=\"color: #00af00; text-decoration-color: #00af00\">0</span> (0.00 B)\n",
       "</pre>\n"
      ],
      "text/plain": [
       "\u001b[1m Non-trainable params: \u001b[0m\u001b[38;5;34m0\u001b[0m (0.00 B)\n"
      ]
     },
     "metadata": {},
     "output_type": "display_data"
    }
   ],
   "source": [
    "mf_bias_model.summary()"
   ]
  },
  {
   "cell_type": "code",
   "execution_count": 26,
   "metadata": {},
   "outputs": [
    {
     "name": "stdout",
     "output_type": "stream",
     "text": [
      "Epoch 1/20\n",
      "\u001b[1m178/178\u001b[0m \u001b[32m━━━━━━━━━━━━━━━━━━━━\u001b[0m\u001b[37m\u001b[0m \u001b[1m3s\u001b[0m 3ms/step - loss: 12.2305 - mse: 12.2305\n",
      "Epoch 2/20\n",
      "\u001b[1m178/178\u001b[0m \u001b[32m━━━━━━━━━━━━━━━━━━━━\u001b[0m\u001b[37m\u001b[0m \u001b[1m1s\u001b[0m 4ms/step - loss: 8.6733 - mse: 8.6733  \n",
      "Epoch 3/20\n",
      "\u001b[1m178/178\u001b[0m \u001b[32m━━━━━━━━━━━━━━━━━━━━\u001b[0m\u001b[37m\u001b[0m \u001b[1m1s\u001b[0m 4ms/step - loss: 3.4993 - mse: 3.4993\n",
      "Epoch 4/20\n",
      "\u001b[1m178/178\u001b[0m \u001b[32m━━━━━━━━━━━━━━━━━━━━\u001b[0m\u001b[37m\u001b[0m \u001b[1m1s\u001b[0m 5ms/step - loss: 1.8695 - mse: 1.8695\n",
      "Epoch 5/20\n",
      "\u001b[1m178/178\u001b[0m \u001b[32m━━━━━━━━━━━━━━━━━━━━\u001b[0m\u001b[37m\u001b[0m \u001b[1m1s\u001b[0m 5ms/step - loss: 1.3239 - mse: 1.3239\n",
      "Epoch 6/20\n",
      "\u001b[1m178/178\u001b[0m \u001b[32m━━━━━━━━━━━━━━━━━━━━\u001b[0m\u001b[37m\u001b[0m \u001b[1m1s\u001b[0m 4ms/step - loss: 1.0526 - mse: 1.0526\n",
      "Epoch 7/20\n",
      "\u001b[1m178/178\u001b[0m \u001b[32m━━━━━━━━━━━━━━━━━━━━\u001b[0m\u001b[37m\u001b[0m \u001b[1m1s\u001b[0m 6ms/step - loss: 0.8908 - mse: 0.8908\n",
      "Epoch 8/20\n",
      "\u001b[1m178/178\u001b[0m \u001b[32m━━━━━━━━━━━━━━━━━━━━\u001b[0m\u001b[37m\u001b[0m \u001b[1m1s\u001b[0m 5ms/step - loss: 0.7844 - mse: 0.7844\n",
      "Epoch 9/20\n",
      "\u001b[1m178/178\u001b[0m \u001b[32m━━━━━━━━━━━━━━━━━━━━\u001b[0m\u001b[37m\u001b[0m \u001b[1m1s\u001b[0m 5ms/step - loss: 0.7109 - mse: 0.7109\n",
      "Epoch 10/20\n",
      "\u001b[1m178/178\u001b[0m \u001b[32m━━━━━━━━━━━━━━━━━━━━\u001b[0m\u001b[37m\u001b[0m \u001b[1m1s\u001b[0m 5ms/step - loss: 0.6579 - mse: 0.6579\n",
      "Epoch 11/20\n",
      "\u001b[1m178/178\u001b[0m \u001b[32m━━━━━━━━━━━━━━━━━━━━\u001b[0m\u001b[37m\u001b[0m \u001b[1m1s\u001b[0m 5ms/step - loss: 0.6182 - mse: 0.6182\n",
      "Epoch 12/20\n",
      "\u001b[1m178/178\u001b[0m \u001b[32m━━━━━━━━━━━━━━━━━━━━\u001b[0m\u001b[37m\u001b[0m \u001b[1m1s\u001b[0m 5ms/step - loss: 0.5873 - mse: 0.5873\n",
      "Epoch 13/20\n",
      "\u001b[1m178/178\u001b[0m \u001b[32m━━━━━━━━━━━━━━━━━━━━\u001b[0m\u001b[37m\u001b[0m \u001b[1m1s\u001b[0m 4ms/step - loss: 0.5619 - mse: 0.5619\n",
      "Epoch 14/20\n",
      "\u001b[1m178/178\u001b[0m \u001b[32m━━━━━━━━━━━━━━━━━━━━\u001b[0m\u001b[37m\u001b[0m \u001b[1m1s\u001b[0m 5ms/step - loss: 0.5406 - mse: 0.5406\n",
      "Epoch 15/20\n",
      "\u001b[1m178/178\u001b[0m \u001b[32m━━━━━━━━━━━━━━━━━━━━\u001b[0m\u001b[37m\u001b[0m \u001b[1m1s\u001b[0m 6ms/step - loss: 0.5216 - mse: 0.5216\n",
      "Epoch 16/20\n",
      "\u001b[1m178/178\u001b[0m \u001b[32m━━━━━━━━━━━━━━━━━━━━\u001b[0m\u001b[37m\u001b[0m \u001b[1m1s\u001b[0m 6ms/step - loss: 0.5048 - mse: 0.5048\n",
      "Epoch 17/20\n",
      "\u001b[1m178/178\u001b[0m \u001b[32m━━━━━━━━━━━━━━━━━━━━\u001b[0m\u001b[37m\u001b[0m \u001b[1m1s\u001b[0m 5ms/step - loss: 0.4890 - mse: 0.4890\n",
      "Epoch 18/20\n",
      "\u001b[1m178/178\u001b[0m \u001b[32m━━━━━━━━━━━━━━━━━━━━\u001b[0m\u001b[37m\u001b[0m \u001b[1m1s\u001b[0m 6ms/step - loss: 0.4741 - mse: 0.4741\n",
      "Epoch 19/20\n",
      "\u001b[1m178/178\u001b[0m \u001b[32m━━━━━━━━━━━━━━━━━━━━\u001b[0m\u001b[37m\u001b[0m \u001b[1m1s\u001b[0m 6ms/step - loss: 0.4599 - mse: 0.4599\n",
      "Epoch 20/20\n",
      "\u001b[1m178/178\u001b[0m \u001b[32m━━━━━━━━━━━━━━━━━━━━\u001b[0m\u001b[37m\u001b[0m \u001b[1m1s\u001b[0m 5ms/step - loss: 0.4465 - mse: 0.4465\n"
     ]
    }
   ],
   "source": [
    "history = mf_bias_model.fit(X_train, y_train, epochs=20, batch_size=512)\n"
   ]
  },
  {
   "cell_type": "code",
   "execution_count": 27,
   "metadata": {},
   "outputs": [
    {
     "name": "stdout",
     "output_type": "stream",
     "text": [
      "\u001b[1m316/316\u001b[0m \u001b[32m━━━━━━━━━━━━━━━━━━━━\u001b[0m\u001b[37m\u001b[0m \u001b[1m1s\u001b[0m 2ms/step\n",
      "\u001b[1m2836/2836\u001b[0m \u001b[32m━━━━━━━━━━━━━━━━━━━━\u001b[0m\u001b[37m\u001b[0m \u001b[1m4s\u001b[0m 2ms/step\n",
      " Test RMSE with biais : 1.0049816850866689 \n",
      " Train RMSE with biais : 0.6472843779561563 \n",
      "On remarque que le RMSE de Train est encore trés nettement inférieur au RMSE de Test, le modèle est encore en sur-apprentissage (overfitting)\n"
     ]
    }
   ],
   "source": [
    "y_pred = mf_bias_model.predict(X_test)\n",
    "y_pred_train = mf_bias_model.predict(X_train)\n",
    "\n",
    "test_rmse_bias = sqrt(mean_squared_error(y_test, y_pred))\n",
    "train_rmse_bias = sqrt(mean_squared_error(y_train, y_pred_train))\n",
    "\n",
    "print(\" Test RMSE with biais : %s \" % test_rmse_bias)\n",
    "print(\" Train RMSE with biais : %s \" % train_rmse_bias)\n",
    "print(\"On remarque que le RMSE de Train est encore trés nettement inférieur au RMSE de Test, le modèle est encore en sur-apprentissage (overfitting)\")"
   ]
  },
  {
   "cell_type": "markdown",
   "metadata": {},
   "source": [
    "You should get a lower RMSE, about 1.0/1.1"
   ]
  },
  {
   "cell_type": "markdown",
   "metadata": {},
   "source": [
    "## Adding L2 regularization"
   ]
  },
  {
   "cell_type": "markdown",
   "metadata": {},
   "source": [
    "For the moment we have omitted the regularization of the embeddings and bias parameters, as described in equation (5) of Koren's paper. We are now going to add them to the model, have a look at https://keras.io/layers/embeddings/ and https://keras.io/regularizers/ to see how to do this with keras. Fill the function below to implement it:"
   ]
  },
  {
   "cell_type": "markdown",
   "metadata": {},
   "source": [
    "Regularizer base class.\n",
    "\n",
    "Regularizers allow you to apply penalties on layer parameters or layer activity during optimization. These penalties are summed into the loss function that the network optimizes.\n",
    "\n",
    "Regularization penalties are applied on a per-layer basis. The exact API will depend on the layer, but many layers (e.g. Dense, Conv1D, Conv2D and Conv3D) have a unified API.\n",
    "\n",
    "These layers expose 3 keyword arguments:\n",
    "\n",
    "kernel_regularizer: Regularizer to apply a penalty on the layer's kernel\n",
    "bias_regularizer: Regularizer to apply a penalty on the layer's bias\n",
    "activity_regularizer: Regularizer to apply a penalty on the layer's output\n",
    "All layers (including custom layers) expose activity_regularizer as a settable property, whether or not it is in the constructor arguments.\n",
    "\n",
    "The value returned by the activity_regularizer is divided by the input batch size so that the relative weighting between the weight regularizers and the activity regularizers does not change with the batch size.\n",
    "\n",
    "You can access a layer's regularization penalties by calling layer.losses after calling the layer on inputs."
   ]
  },
  {
   "cell_type": "code",
   "execution_count": 28,
   "metadata": {},
   "outputs": [],
   "source": [
    "from keras import regularizers\n",
    "\n",
    "\n",
    "def get_mf_bias_l2_reg_model(nb_users, nb_movies, k, lambda_):\n",
    "    \"\"\"\n",
    "    Build a smatrix factorization model with user and movie biases, and L2 regularization\n",
    "    \n",
    "    Input:\n",
    "        nb_users : int : The number of unique users\n",
    "        nb_movies : int : The number of unique movies\n",
    "        k : int : The size of the embeddings\n",
    "        lambda_ : float : The L2 regularization parameter on p_u, q_i, b_u, b_i\n",
    "        \n",
    "    Output:\n",
    "        model : keras.models.Model : A keras model that implements matrix factorization with biases\n",
    "            and L2 regularization\n",
    "        \n",
    "    \"\"\"\n",
    "    dim_embeddings = k\n",
    "\n",
    "    # --- Entrées (ids entiers) ---\n",
    "    u = Input(shape=(1,), dtype='int32', name='u__user_id')\n",
    "    i = Input(shape=(1,), dtype='int32', name='i__movie_id')\n",
    "\n",
    "    # --- Embeddings latents p_u et q_i ---\n",
    "    p_u = Embedding(nb_users,  dim_embeddings,\n",
    "                    name=\"p_u__user_embedding\",\n",
    "                    embeddings_regularizer=regularizers.l2(lambda_))(u)\n",
    "    p_u = Reshape((dim_embeddings,), name=\"p_u__user_embedding_reshaped\")(p_u)\n",
    "\n",
    "    q_i = Embedding(nb_movies, dim_embeddings,\n",
    "                    name=\"q_i__movie_embedding\",\n",
    "                    embeddings_regularizer=regularizers.l2(lambda_))(i)\n",
    "    q_i = Reshape((dim_embeddings,), name=\"q_i__movie_embedding_reshaped\")(q_i)\n",
    "\n",
    "    # --- Produit scalaire ---\n",
    "    d = Dot(axes=1, name=\"dot_user_movie\")([p_u, q_i])   # (batch, 1)\n",
    "\n",
    "    # --- Biais utilisateur/film ---\n",
    "    b_u = Embedding(nb_users, 1,\n",
    "                    name=\"b_u__user_bias\",\n",
    "                    embeddings_regularizer=regularizers.l2(lambda_))(u)\n",
    "    b_u = Reshape((1,), name=\"b_u__user_bias_reshaped\")(b_u)\n",
    "\n",
    "    b_i = Embedding(nb_movies, 1,\n",
    "                    name=\"b_i__movie_bias\",\n",
    "                    embeddings_regularizer=regularizers.l2(lambda_))(i)\n",
    "    b_i = Reshape((1,), name=\"b_i__movie_bias_reshaped\")(b_i)\n",
    "\n",
    "    pred = Add(name=\"add_biases\")([d, b_u, b_i])         # (batch, 1)\n",
    "\n",
    "    # --- Modèle + compile ---\n",
    "    model = Model(inputs=[u, i], outputs=pred, name=\"matrix_factorization_with_bias\")\n",
    "    model.compile(loss='mse', optimizer='adam', metrics=[\"mse\"])\n",
    "    \n",
    "    return model\n",
    "    \n",
    "\n",
    "\n"
   ]
  },
  {
   "cell_type": "code",
   "execution_count": 29,
   "metadata": {},
   "outputs": [],
   "source": [
    "lambda_ = 0.00001\n",
    "mf_bias_reg_model = get_mf_bias_l2_reg_model(nb_users, nb_movies, k, lambda_)"
   ]
  },
  {
   "cell_type": "code",
   "execution_count": 30,
   "metadata": {},
   "outputs": [
    {
     "data": {
      "text/html": [
       "<pre style=\"white-space:pre;overflow-x:auto;line-height:normal;font-family:Menlo,'DejaVu Sans Mono',consolas,'Courier New',monospace\"><span style=\"font-weight: bold\">Model: \"matrix_factorization_with_bias\"</span>\n",
       "</pre>\n"
      ],
      "text/plain": [
       "\u001b[1mModel: \"matrix_factorization_with_bias\"\u001b[0m\n"
      ]
     },
     "metadata": {},
     "output_type": "display_data"
    },
    {
     "data": {
      "text/html": [
       "<pre style=\"white-space:pre;overflow-x:auto;line-height:normal;font-family:Menlo,'DejaVu Sans Mono',consolas,'Courier New',monospace\">┏━━━━━━━━━━━━━━━━━━━━━┳━━━━━━━━━━━━━━━━━━━┳━━━━━━━━━━━━┳━━━━━━━━━━━━━━━━━━━┓\n",
       "┃<span style=\"font-weight: bold\"> Layer (type)        </span>┃<span style=\"font-weight: bold\"> Output Shape      </span>┃<span style=\"font-weight: bold\">    Param # </span>┃<span style=\"font-weight: bold\"> Connected to      </span>┃\n",
       "┡━━━━━━━━━━━━━━━━━━━━━╇━━━━━━━━━━━━━━━━━━━╇━━━━━━━━━━━━╇━━━━━━━━━━━━━━━━━━━┩\n",
       "│ u__user_id          │ (<span style=\"color: #00d7ff; text-decoration-color: #00d7ff\">None</span>, <span style=\"color: #00af00; text-decoration-color: #00af00\">1</span>)         │          <span style=\"color: #00af00; text-decoration-color: #00af00\">0</span> │ -                 │\n",
       "│ (<span style=\"color: #0087ff; text-decoration-color: #0087ff\">InputLayer</span>)        │                   │            │                   │\n",
       "├─────────────────────┼───────────────────┼────────────┼───────────────────┤\n",
       "│ i__movie_id         │ (<span style=\"color: #00d7ff; text-decoration-color: #00d7ff\">None</span>, <span style=\"color: #00af00; text-decoration-color: #00af00\">1</span>)         │          <span style=\"color: #00af00; text-decoration-color: #00af00\">0</span> │ -                 │\n",
       "│ (<span style=\"color: #0087ff; text-decoration-color: #0087ff\">InputLayer</span>)        │                   │            │                   │\n",
       "├─────────────────────┼───────────────────┼────────────┼───────────────────┤\n",
       "│ p_u__user_embedding │ (<span style=\"color: #00d7ff; text-decoration-color: #00d7ff\">None</span>, <span style=\"color: #00af00; text-decoration-color: #00af00\">1</span>, <span style=\"color: #00af00; text-decoration-color: #00af00\">30</span>)     │     <span style=\"color: #00af00; text-decoration-color: #00af00\">18,300</span> │ u__user_id[<span style=\"color: #00af00; text-decoration-color: #00af00\">0</span>][<span style=\"color: #00af00; text-decoration-color: #00af00\">0</span>]  │\n",
       "│ (<span style=\"color: #0087ff; text-decoration-color: #0087ff\">Embedding</span>)         │                   │            │                   │\n",
       "├─────────────────────┼───────────────────┼────────────┼───────────────────┤\n",
       "│ q_i__movie_embeddi… │ (<span style=\"color: #00d7ff; text-decoration-color: #00d7ff\">None</span>, <span style=\"color: #00af00; text-decoration-color: #00af00\">1</span>, <span style=\"color: #00af00; text-decoration-color: #00af00\">30</span>)     │    <span style=\"color: #00af00; text-decoration-color: #00af00\">291,720</span> │ i__movie_id[<span style=\"color: #00af00; text-decoration-color: #00af00\">0</span>][<span style=\"color: #00af00; text-decoration-color: #00af00\">0</span>] │\n",
       "│ (<span style=\"color: #0087ff; text-decoration-color: #0087ff\">Embedding</span>)         │                   │            │                   │\n",
       "├─────────────────────┼───────────────────┼────────────┼───────────────────┤\n",
       "│ p_u__user_embeddin… │ (<span style=\"color: #00d7ff; text-decoration-color: #00d7ff\">None</span>, <span style=\"color: #00af00; text-decoration-color: #00af00\">30</span>)        │          <span style=\"color: #00af00; text-decoration-color: #00af00\">0</span> │ p_u__user_embedd… │\n",
       "│ (<span style=\"color: #0087ff; text-decoration-color: #0087ff\">Reshape</span>)           │                   │            │                   │\n",
       "├─────────────────────┼───────────────────┼────────────┼───────────────────┤\n",
       "│ q_i__movie_embeddi… │ (<span style=\"color: #00d7ff; text-decoration-color: #00d7ff\">None</span>, <span style=\"color: #00af00; text-decoration-color: #00af00\">30</span>)        │          <span style=\"color: #00af00; text-decoration-color: #00af00\">0</span> │ q_i__movie_embed… │\n",
       "│ (<span style=\"color: #0087ff; text-decoration-color: #0087ff\">Reshape</span>)           │                   │            │                   │\n",
       "├─────────────────────┼───────────────────┼────────────┼───────────────────┤\n",
       "│ b_u__user_bias      │ (<span style=\"color: #00d7ff; text-decoration-color: #00d7ff\">None</span>, <span style=\"color: #00af00; text-decoration-color: #00af00\">1</span>, <span style=\"color: #00af00; text-decoration-color: #00af00\">1</span>)      │        <span style=\"color: #00af00; text-decoration-color: #00af00\">610</span> │ u__user_id[<span style=\"color: #00af00; text-decoration-color: #00af00\">0</span>][<span style=\"color: #00af00; text-decoration-color: #00af00\">0</span>]  │\n",
       "│ (<span style=\"color: #0087ff; text-decoration-color: #0087ff\">Embedding</span>)         │                   │            │                   │\n",
       "├─────────────────────┼───────────────────┼────────────┼───────────────────┤\n",
       "│ b_i__movie_bias     │ (<span style=\"color: #00d7ff; text-decoration-color: #00d7ff\">None</span>, <span style=\"color: #00af00; text-decoration-color: #00af00\">1</span>, <span style=\"color: #00af00; text-decoration-color: #00af00\">1</span>)      │      <span style=\"color: #00af00; text-decoration-color: #00af00\">9,724</span> │ i__movie_id[<span style=\"color: #00af00; text-decoration-color: #00af00\">0</span>][<span style=\"color: #00af00; text-decoration-color: #00af00\">0</span>] │\n",
       "│ (<span style=\"color: #0087ff; text-decoration-color: #0087ff\">Embedding</span>)         │                   │            │                   │\n",
       "├─────────────────────┼───────────────────┼────────────┼───────────────────┤\n",
       "│ dot_user_movie      │ (<span style=\"color: #00d7ff; text-decoration-color: #00d7ff\">None</span>, <span style=\"color: #00af00; text-decoration-color: #00af00\">1</span>)         │          <span style=\"color: #00af00; text-decoration-color: #00af00\">0</span> │ p_u__user_embedd… │\n",
       "│ (<span style=\"color: #0087ff; text-decoration-color: #0087ff\">Dot</span>)               │                   │            │ q_i__movie_embed… │\n",
       "├─────────────────────┼───────────────────┼────────────┼───────────────────┤\n",
       "│ b_u__user_bias_res… │ (<span style=\"color: #00d7ff; text-decoration-color: #00d7ff\">None</span>, <span style=\"color: #00af00; text-decoration-color: #00af00\">1</span>)         │          <span style=\"color: #00af00; text-decoration-color: #00af00\">0</span> │ b_u__user_bias[<span style=\"color: #00af00; text-decoration-color: #00af00\">0</span>… │\n",
       "│ (<span style=\"color: #0087ff; text-decoration-color: #0087ff\">Reshape</span>)           │                   │            │                   │\n",
       "├─────────────────────┼───────────────────┼────────────┼───────────────────┤\n",
       "│ b_i__movie_bias_re… │ (<span style=\"color: #00d7ff; text-decoration-color: #00d7ff\">None</span>, <span style=\"color: #00af00; text-decoration-color: #00af00\">1</span>)         │          <span style=\"color: #00af00; text-decoration-color: #00af00\">0</span> │ b_i__movie_bias[<span style=\"color: #00af00; text-decoration-color: #00af00\">…</span> │\n",
       "│ (<span style=\"color: #0087ff; text-decoration-color: #0087ff\">Reshape</span>)           │                   │            │                   │\n",
       "├─────────────────────┼───────────────────┼────────────┼───────────────────┤\n",
       "│ add_biases (<span style=\"color: #0087ff; text-decoration-color: #0087ff\">Add</span>)    │ (<span style=\"color: #00d7ff; text-decoration-color: #00d7ff\">None</span>, <span style=\"color: #00af00; text-decoration-color: #00af00\">1</span>)         │          <span style=\"color: #00af00; text-decoration-color: #00af00\">0</span> │ dot_user_movie[<span style=\"color: #00af00; text-decoration-color: #00af00\">0</span>… │\n",
       "│                     │                   │            │ b_u__user_bias_r… │\n",
       "│                     │                   │            │ b_i__movie_bias_… │\n",
       "└─────────────────────┴───────────────────┴────────────┴───────────────────┘\n",
       "</pre>\n"
      ],
      "text/plain": [
       "┏━━━━━━━━━━━━━━━━━━━━━┳━━━━━━━━━━━━━━━━━━━┳━━━━━━━━━━━━┳━━━━━━━━━━━━━━━━━━━┓\n",
       "┃\u001b[1m \u001b[0m\u001b[1mLayer (type)       \u001b[0m\u001b[1m \u001b[0m┃\u001b[1m \u001b[0m\u001b[1mOutput Shape     \u001b[0m\u001b[1m \u001b[0m┃\u001b[1m \u001b[0m\u001b[1m   Param #\u001b[0m\u001b[1m \u001b[0m┃\u001b[1m \u001b[0m\u001b[1mConnected to     \u001b[0m\u001b[1m \u001b[0m┃\n",
       "┡━━━━━━━━━━━━━━━━━━━━━╇━━━━━━━━━━━━━━━━━━━╇━━━━━━━━━━━━╇━━━━━━━━━━━━━━━━━━━┩\n",
       "│ u__user_id          │ (\u001b[38;5;45mNone\u001b[0m, \u001b[38;5;34m1\u001b[0m)         │          \u001b[38;5;34m0\u001b[0m │ -                 │\n",
       "│ (\u001b[38;5;33mInputLayer\u001b[0m)        │                   │            │                   │\n",
       "├─────────────────────┼───────────────────┼────────────┼───────────────────┤\n",
       "│ i__movie_id         │ (\u001b[38;5;45mNone\u001b[0m, \u001b[38;5;34m1\u001b[0m)         │          \u001b[38;5;34m0\u001b[0m │ -                 │\n",
       "│ (\u001b[38;5;33mInputLayer\u001b[0m)        │                   │            │                   │\n",
       "├─────────────────────┼───────────────────┼────────────┼───────────────────┤\n",
       "│ p_u__user_embedding │ (\u001b[38;5;45mNone\u001b[0m, \u001b[38;5;34m1\u001b[0m, \u001b[38;5;34m30\u001b[0m)     │     \u001b[38;5;34m18,300\u001b[0m │ u__user_id[\u001b[38;5;34m0\u001b[0m][\u001b[38;5;34m0\u001b[0m]  │\n",
       "│ (\u001b[38;5;33mEmbedding\u001b[0m)         │                   │            │                   │\n",
       "├─────────────────────┼───────────────────┼────────────┼───────────────────┤\n",
       "│ q_i__movie_embeddi… │ (\u001b[38;5;45mNone\u001b[0m, \u001b[38;5;34m1\u001b[0m, \u001b[38;5;34m30\u001b[0m)     │    \u001b[38;5;34m291,720\u001b[0m │ i__movie_id[\u001b[38;5;34m0\u001b[0m][\u001b[38;5;34m0\u001b[0m] │\n",
       "│ (\u001b[38;5;33mEmbedding\u001b[0m)         │                   │            │                   │\n",
       "├─────────────────────┼───────────────────┼────────────┼───────────────────┤\n",
       "│ p_u__user_embeddin… │ (\u001b[38;5;45mNone\u001b[0m, \u001b[38;5;34m30\u001b[0m)        │          \u001b[38;5;34m0\u001b[0m │ p_u__user_embedd… │\n",
       "│ (\u001b[38;5;33mReshape\u001b[0m)           │                   │            │                   │\n",
       "├─────────────────────┼───────────────────┼────────────┼───────────────────┤\n",
       "│ q_i__movie_embeddi… │ (\u001b[38;5;45mNone\u001b[0m, \u001b[38;5;34m30\u001b[0m)        │          \u001b[38;5;34m0\u001b[0m │ q_i__movie_embed… │\n",
       "│ (\u001b[38;5;33mReshape\u001b[0m)           │                   │            │                   │\n",
       "├─────────────────────┼───────────────────┼────────────┼───────────────────┤\n",
       "│ b_u__user_bias      │ (\u001b[38;5;45mNone\u001b[0m, \u001b[38;5;34m1\u001b[0m, \u001b[38;5;34m1\u001b[0m)      │        \u001b[38;5;34m610\u001b[0m │ u__user_id[\u001b[38;5;34m0\u001b[0m][\u001b[38;5;34m0\u001b[0m]  │\n",
       "│ (\u001b[38;5;33mEmbedding\u001b[0m)         │                   │            │                   │\n",
       "├─────────────────────┼───────────────────┼────────────┼───────────────────┤\n",
       "│ b_i__movie_bias     │ (\u001b[38;5;45mNone\u001b[0m, \u001b[38;5;34m1\u001b[0m, \u001b[38;5;34m1\u001b[0m)      │      \u001b[38;5;34m9,724\u001b[0m │ i__movie_id[\u001b[38;5;34m0\u001b[0m][\u001b[38;5;34m0\u001b[0m] │\n",
       "│ (\u001b[38;5;33mEmbedding\u001b[0m)         │                   │            │                   │\n",
       "├─────────────────────┼───────────────────┼────────────┼───────────────────┤\n",
       "│ dot_user_movie      │ (\u001b[38;5;45mNone\u001b[0m, \u001b[38;5;34m1\u001b[0m)         │          \u001b[38;5;34m0\u001b[0m │ p_u__user_embedd… │\n",
       "│ (\u001b[38;5;33mDot\u001b[0m)               │                   │            │ q_i__movie_embed… │\n",
       "├─────────────────────┼───────────────────┼────────────┼───────────────────┤\n",
       "│ b_u__user_bias_res… │ (\u001b[38;5;45mNone\u001b[0m, \u001b[38;5;34m1\u001b[0m)         │          \u001b[38;5;34m0\u001b[0m │ b_u__user_bias[\u001b[38;5;34m0\u001b[0m… │\n",
       "│ (\u001b[38;5;33mReshape\u001b[0m)           │                   │            │                   │\n",
       "├─────────────────────┼───────────────────┼────────────┼───────────────────┤\n",
       "│ b_i__movie_bias_re… │ (\u001b[38;5;45mNone\u001b[0m, \u001b[38;5;34m1\u001b[0m)         │          \u001b[38;5;34m0\u001b[0m │ b_i__movie_bias[\u001b[38;5;34m…\u001b[0m │\n",
       "│ (\u001b[38;5;33mReshape\u001b[0m)           │                   │            │                   │\n",
       "├─────────────────────┼───────────────────┼────────────┼───────────────────┤\n",
       "│ add_biases (\u001b[38;5;33mAdd\u001b[0m)    │ (\u001b[38;5;45mNone\u001b[0m, \u001b[38;5;34m1\u001b[0m)         │          \u001b[38;5;34m0\u001b[0m │ dot_user_movie[\u001b[38;5;34m0\u001b[0m… │\n",
       "│                     │                   │            │ b_u__user_bias_r… │\n",
       "│                     │                   │            │ b_i__movie_bias_… │\n",
       "└─────────────────────┴───────────────────┴────────────┴───────────────────┘\n"
      ]
     },
     "metadata": {},
     "output_type": "display_data"
    },
    {
     "data": {
      "text/html": [
       "<pre style=\"white-space:pre;overflow-x:auto;line-height:normal;font-family:Menlo,'DejaVu Sans Mono',consolas,'Courier New',monospace\"><span style=\"font-weight: bold\"> Total params: </span><span style=\"color: #00af00; text-decoration-color: #00af00\">320,354</span> (1.22 MB)\n",
       "</pre>\n"
      ],
      "text/plain": [
       "\u001b[1m Total params: \u001b[0m\u001b[38;5;34m320,354\u001b[0m (1.22 MB)\n"
      ]
     },
     "metadata": {},
     "output_type": "display_data"
    },
    {
     "data": {
      "text/html": [
       "<pre style=\"white-space:pre;overflow-x:auto;line-height:normal;font-family:Menlo,'DejaVu Sans Mono',consolas,'Courier New',monospace\"><span style=\"font-weight: bold\"> Trainable params: </span><span style=\"color: #00af00; text-decoration-color: #00af00\">320,354</span> (1.22 MB)\n",
       "</pre>\n"
      ],
      "text/plain": [
       "\u001b[1m Trainable params: \u001b[0m\u001b[38;5;34m320,354\u001b[0m (1.22 MB)\n"
      ]
     },
     "metadata": {},
     "output_type": "display_data"
    },
    {
     "data": {
      "text/html": [
       "<pre style=\"white-space:pre;overflow-x:auto;line-height:normal;font-family:Menlo,'DejaVu Sans Mono',consolas,'Courier New',monospace\"><span style=\"font-weight: bold\"> Non-trainable params: </span><span style=\"color: #00af00; text-decoration-color: #00af00\">0</span> (0.00 B)\n",
       "</pre>\n"
      ],
      "text/plain": [
       "\u001b[1m Non-trainable params: \u001b[0m\u001b[38;5;34m0\u001b[0m (0.00 B)\n"
      ]
     },
     "metadata": {},
     "output_type": "display_data"
    }
   ],
   "source": [
    "mf_bias_reg_model.summary()"
   ]
  },
  {
   "cell_type": "code",
   "execution_count": 31,
   "metadata": {},
   "outputs": [
    {
     "name": "stdout",
     "output_type": "stream",
     "text": [
      "Epoch 1/20\n",
      "\u001b[1m178/178\u001b[0m \u001b[32m━━━━━━━━━━━━━━━━━━━━\u001b[0m\u001b[37m\u001b[0m \u001b[1m4s\u001b[0m 6ms/step - loss: 12.6320 - mse: 12.6304\n",
      "Epoch 2/20\n",
      "\u001b[1m178/178\u001b[0m \u001b[32m━━━━━━━━━━━━━━━━━━━━\u001b[0m\u001b[37m\u001b[0m \u001b[1m1s\u001b[0m 6ms/step - loss: 9.4136 - mse: 9.4049  \n",
      "Epoch 3/20\n",
      "\u001b[1m178/178\u001b[0m \u001b[32m━━━━━━━━━━━━━━━━━━━━\u001b[0m\u001b[37m\u001b[0m \u001b[1m1s\u001b[0m 5ms/step - loss: 4.0221 - mse: 3.9881\n",
      "Epoch 4/20\n",
      "\u001b[1m178/178\u001b[0m \u001b[32m━━━━━━━━━━━━━━━━━━━━\u001b[0m\u001b[37m\u001b[0m \u001b[1m1s\u001b[0m 4ms/step - loss: 2.0881 - mse: 2.0310\n",
      "Epoch 5/20\n",
      "\u001b[1m178/178\u001b[0m \u001b[32m━━━━━━━━━━━━━━━━━━━━\u001b[0m\u001b[37m\u001b[0m \u001b[1m1s\u001b[0m 5ms/step - loss: 1.5178 - mse: 1.4457\n",
      "Epoch 6/20\n",
      "\u001b[1m178/178\u001b[0m \u001b[32m━━━━━━━━━━━━━━━━━━━━\u001b[0m\u001b[37m\u001b[0m \u001b[1m1s\u001b[0m 5ms/step - loss: 1.2447 - mse: 1.1613\n",
      "Epoch 7/20\n",
      "\u001b[1m178/178\u001b[0m \u001b[32m━━━━━━━━━━━━━━━━━━━━\u001b[0m\u001b[37m\u001b[0m \u001b[1m1s\u001b[0m 7ms/step - loss: 1.0879 - mse: 0.9955\n",
      "Epoch 8/20\n",
      "\u001b[1m178/178\u001b[0m \u001b[32m━━━━━━━━━━━━━━━━━━━━\u001b[0m\u001b[37m\u001b[0m \u001b[1m1s\u001b[0m 6ms/step - loss: 0.9874 - mse: 0.8875\n",
      "Epoch 9/20\n",
      "\u001b[1m178/178\u001b[0m \u001b[32m━━━━━━━━━━━━━━━━━━━━\u001b[0m\u001b[37m\u001b[0m \u001b[1m1s\u001b[0m 6ms/step - loss: 0.9184 - mse: 0.8122\n",
      "Epoch 10/20\n",
      "\u001b[1m178/178\u001b[0m \u001b[32m━━━━━━━━━━━━━━━━━━━━\u001b[0m\u001b[37m\u001b[0m \u001b[1m1s\u001b[0m 6ms/step - loss: 0.8685 - mse: 0.7570\n",
      "Epoch 11/20\n",
      "\u001b[1m178/178\u001b[0m \u001b[32m━━━━━━━━━━━━━━━━━━━━\u001b[0m\u001b[37m\u001b[0m \u001b[1m1s\u001b[0m 5ms/step - loss: 0.8309 - mse: 0.7149\n",
      "Epoch 12/20\n",
      "\u001b[1m178/178\u001b[0m \u001b[32m━━━━━━━━━━━━━━━━━━━━\u001b[0m\u001b[37m\u001b[0m \u001b[1m1s\u001b[0m 6ms/step - loss: 0.8012 - mse: 0.6814\n",
      "Epoch 13/20\n",
      "\u001b[1m178/178\u001b[0m \u001b[32m━━━━━━━━━━━━━━━━━━━━\u001b[0m\u001b[37m\u001b[0m \u001b[1m1s\u001b[0m 5ms/step - loss: 0.7777 - mse: 0.6547\n",
      "Epoch 14/20\n",
      "\u001b[1m178/178\u001b[0m \u001b[32m━━━━━━━━━━━━━━━━━━━━\u001b[0m\u001b[37m\u001b[0m \u001b[1m1s\u001b[0m 5ms/step - loss: 0.7586 - mse: 0.6328\n",
      "Epoch 15/20\n",
      "\u001b[1m178/178\u001b[0m \u001b[32m━━━━━━━━━━━━━━━━━━━━\u001b[0m\u001b[37m\u001b[0m \u001b[1m1s\u001b[0m 5ms/step - loss: 0.7420 - mse: 0.6138\n",
      "Epoch 16/20\n",
      "\u001b[1m178/178\u001b[0m \u001b[32m━━━━━━━━━━━━━━━━━━━━\u001b[0m\u001b[37m\u001b[0m \u001b[1m1s\u001b[0m 4ms/step - loss: 0.7278 - mse: 0.5977\n",
      "Epoch 17/20\n",
      "\u001b[1m178/178\u001b[0m \u001b[32m━━━━━━━━━━━━━━━━━━━━\u001b[0m\u001b[37m\u001b[0m \u001b[1m1s\u001b[0m 4ms/step - loss: 0.7152 - mse: 0.5834\n",
      "Epoch 18/20\n",
      "\u001b[1m178/178\u001b[0m \u001b[32m━━━━━━━━━━━━━━━━━━━━\u001b[0m\u001b[37m\u001b[0m \u001b[1m1s\u001b[0m 4ms/step - loss: 0.7034 - mse: 0.5701\n",
      "Epoch 19/20\n",
      "\u001b[1m178/178\u001b[0m \u001b[32m━━━━━━━━━━━━━━━━━━━━\u001b[0m\u001b[37m\u001b[0m \u001b[1m1s\u001b[0m 4ms/step - loss: 0.6927 - mse: 0.5583\n",
      "Epoch 20/20\n",
      "\u001b[1m178/178\u001b[0m \u001b[32m━━━━━━━━━━━━━━━━━━━━\u001b[0m\u001b[37m\u001b[0m \u001b[1m1s\u001b[0m 5ms/step - loss: 0.6823 - mse: 0.5468\n"
     ]
    }
   ],
   "source": [
    "history = mf_bias_reg_model.fit(X_train, y_train, epochs=20, batch_size=512)\n"
   ]
  },
  {
   "cell_type": "code",
   "execution_count": 32,
   "metadata": {},
   "outputs": [
    {
     "name": "stdout",
     "output_type": "stream",
     "text": [
      "\u001b[1m316/316\u001b[0m \u001b[32m━━━━━━━━━━━━━━━━━━━━\u001b[0m\u001b[37m\u001b[0m \u001b[1m1s\u001b[0m 3ms/step\n",
      "\u001b[1m2836/2836\u001b[0m \u001b[32m━━━━━━━━━━━━━━━━━━━━\u001b[0m\u001b[37m\u001b[0m \u001b[1m5s\u001b[0m 2ms/step\n",
      " Test RMSE with biais with regularization : 1.0400945338250571 \n",
      " Train RMSE with biais with biais with regularization : 0.7181582993719707 \n",
      "On remarque que le RMSE de Train est encore trés nettement inférieur au RMSE de Test, le modèle est encore en sur-apprentissage (overfitting)\n"
     ]
    }
   ],
   "source": [
    "y_pred = mf_bias_reg_model.predict(X_test)\n",
    "y_pred_train = mf_bias_reg_model.predict(X_train)\n",
    "\n",
    "test_rmse_bias_reg = sqrt(mean_squared_error(y_test, y_pred))\n",
    "train_rmse_bias_reg = sqrt(mean_squared_error(y_train, y_pred_train))\n",
    "\n",
    "print(\" Test RMSE with biais with regularization : %s \" % test_rmse_bias_reg)\n",
    "print(\" Train RMSE with biais with biais with regularization : %s \" % train_rmse_bias_reg)\n",
    "print(\"On remarque que le RMSE de Train est encore trés nettement inférieur au RMSE de Test, le modèle est encore en sur-apprentissage (overfitting)\")"
   ]
  },
  {
   "cell_type": "markdown",
   "metadata": {},
   "source": [
    "You might get a slightly worse (higher) RMSE, because adding regularization makes the optimization process more complex, and it probably requires more than 20 epochs to properly converge. But in the end its gonna yield better results with more iterations, so let's change this."
   ]
  },
  {
   "cell_type": "markdown",
   "metadata": {},
   "source": [
    "## Early Stopping"
   ]
  },
  {
   "cell_type": "markdown",
   "metadata": {},
   "source": [
    "Instead of setting manually the maximum number of epochs, we prefer to use *early stopping*. When training with early stopping, keras keeps a given validation set though the parameter `validation_split`, on which it is going to monitor a performance measure you give it (here the `mse`) at every epoch, and continue optimization while the mse on the validation set keeps going down, and stops it when it goes back up. This mechanism is an easy way to avoid over-fitting, you can read more about it there : https://machinelearningmastery.com/how-to-stop-training-deep-neural-networks-at-the-right-time-using-early-stopping/\n",
    "\n",
    "In general when using early stopping we setup a high number of maximum epochs, that is never reach because the optimization is stopped by early stopping first :"
   ]
  },
  {
   "cell_type": "code",
   "execution_count": 33,
   "metadata": {},
   "outputs": [
    {
     "name": "stdout",
     "output_type": "stream",
     "text": [
      "Epoch 1/500\n",
      "\u001b[1m160/160\u001b[0m \u001b[32m━━━━━━━━━━━━━━━━━━━━\u001b[0m\u001b[37m\u001b[0m \u001b[1m3s\u001b[0m 8ms/step - loss: 12.7477 - mse: 12.7461 - val_loss: 12.0379 - val_mse: 12.0362\n",
      "Epoch 2/500\n",
      "\u001b[1m160/160\u001b[0m \u001b[32m━━━━━━━━━━━━━━━━━━━━\u001b[0m\u001b[37m\u001b[0m \u001b[1m2s\u001b[0m 4ms/step - loss: 10.5140 - mse: 10.5087 - val_loss: 8.2025 - val_mse: 8.1903\n",
      "Epoch 3/500\n",
      "\u001b[1m160/160\u001b[0m \u001b[32m━━━━━━━━━━━━━━━━━━━━\u001b[0m\u001b[37m\u001b[0m \u001b[1m1s\u001b[0m 3ms/step - loss: 5.4376 - mse: 5.4129 - val_loss: 3.5960 - val_mse: 3.5579\n",
      "Epoch 4/500\n",
      "\u001b[1m160/160\u001b[0m \u001b[32m━━━━━━━━━━━━━━━━━━━━\u001b[0m\u001b[37m\u001b[0m \u001b[1m1s\u001b[0m 3ms/step - loss: 2.5321 - mse: 2.4833 - val_loss: 2.2956 - val_mse: 2.2374\n",
      "Epoch 5/500\n",
      "\u001b[1m160/160\u001b[0m \u001b[32m━━━━━━━━━━━━━━━━━━━━\u001b[0m\u001b[37m\u001b[0m \u001b[1m1s\u001b[0m 3ms/step - loss: 1.7077 - mse: 1.6425 - val_loss: 1.8389 - val_mse: 1.7672\n",
      "Epoch 6/500\n",
      "\u001b[1m160/160\u001b[0m \u001b[32m━━━━━━━━━━━━━━━━━━━━\u001b[0m\u001b[37m\u001b[0m \u001b[1m1s\u001b[0m 3ms/step - loss: 1.3487 - mse: 1.2718 - val_loss: 1.6108 - val_mse: 1.5287\n",
      "Epoch 7/500\n",
      "\u001b[1m160/160\u001b[0m \u001b[32m━━━━━━━━━━━━━━━━━━━━\u001b[0m\u001b[37m\u001b[0m \u001b[1m1s\u001b[0m 3ms/step - loss: 1.1501 - mse: 1.0638 - val_loss: 1.4793 - val_mse: 1.3889\n",
      "Epoch 8/500\n",
      "\u001b[1m160/160\u001b[0m \u001b[32m━━━━━━━━━━━━━━━━━━━━\u001b[0m\u001b[37m\u001b[0m \u001b[1m1s\u001b[0m 3ms/step - loss: 1.0263 - mse: 0.9322 - val_loss: 1.3988 - val_mse: 1.3014\n",
      "Epoch 9/500\n",
      "\u001b[1m160/160\u001b[0m \u001b[32m━━━━━━━━━━━━━━━━━━━━\u001b[0m\u001b[37m\u001b[0m \u001b[1m1s\u001b[0m 3ms/step - loss: 0.9430 - mse: 0.8426 - val_loss: 1.3438 - val_mse: 1.2405\n",
      "Epoch 10/500\n",
      "\u001b[1m160/160\u001b[0m \u001b[32m━━━━━━━━━━━━━━━━━━━━\u001b[0m\u001b[37m\u001b[0m \u001b[1m1s\u001b[0m 3ms/step - loss: 0.8843 - mse: 0.7784 - val_loss: 1.3096 - val_mse: 1.2013\n",
      "Epoch 11/500\n",
      "\u001b[1m160/160\u001b[0m \u001b[32m━━━━━━━━━━━━━━━━━━━━\u001b[0m\u001b[37m\u001b[0m \u001b[1m1s\u001b[0m 3ms/step - loss: 0.8400 - mse: 0.7295 - val_loss: 1.2848 - val_mse: 1.1722\n",
      "Epoch 12/500\n",
      "\u001b[1m160/160\u001b[0m \u001b[32m━━━━━━━━━━━━━━━━━━━━\u001b[0m\u001b[37m\u001b[0m \u001b[1m1s\u001b[0m 3ms/step - loss: 0.8062 - mse: 0.6917 - val_loss: 1.2686 - val_mse: 1.1524\n",
      "Epoch 13/500\n",
      "\u001b[1m160/160\u001b[0m \u001b[32m━━━━━━━━━━━━━━━━━━━━\u001b[0m\u001b[37m\u001b[0m \u001b[1m1s\u001b[0m 3ms/step - loss: 0.7794 - mse: 0.6616 - val_loss: 1.2552 - val_mse: 1.1359\n",
      "Epoch 14/500\n",
      "\u001b[1m160/160\u001b[0m \u001b[32m━━━━━━━━━━━━━━━━━━━━\u001b[0m\u001b[37m\u001b[0m \u001b[1m1s\u001b[0m 3ms/step - loss: 0.7572 - mse: 0.6365 - val_loss: 1.2480 - val_mse: 1.1259\n",
      "Epoch 15/500\n",
      "\u001b[1m160/160\u001b[0m \u001b[32m━━━━━━━━━━━━━━━━━━━━\u001b[0m\u001b[37m\u001b[0m \u001b[1m1s\u001b[0m 3ms/step - loss: 0.7388 - mse: 0.6156 - val_loss: 1.2424 - val_mse: 1.1180\n",
      "Epoch 16/500\n",
      "\u001b[1m160/160\u001b[0m \u001b[32m━━━━━━━━━━━━━━━━━━━━\u001b[0m\u001b[37m\u001b[0m \u001b[1m1s\u001b[0m 4ms/step - loss: 0.7224 - mse: 0.5970 - val_loss: 1.2406 - val_mse: 1.1142\n",
      "Epoch 17/500\n",
      "\u001b[1m160/160\u001b[0m \u001b[32m━━━━━━━━━━━━━━━━━━━━\u001b[0m\u001b[37m\u001b[0m \u001b[1m1s\u001b[0m 4ms/step - loss: 0.7083 - mse: 0.5811 - val_loss: 1.2375 - val_mse: 1.1093\n",
      "Epoch 18/500\n",
      "\u001b[1m160/160\u001b[0m \u001b[32m━━━━━━━━━━━━━━━━━━━━\u001b[0m\u001b[37m\u001b[0m \u001b[1m1s\u001b[0m 4ms/step - loss: 0.6955 - mse: 0.5666 - val_loss: 1.2374 - val_mse: 1.1078\n",
      "Epoch 19/500\n",
      "\u001b[1m160/160\u001b[0m \u001b[32m━━━━━━━━━━━━━━━━━━━━\u001b[0m\u001b[37m\u001b[0m \u001b[1m1s\u001b[0m 4ms/step - loss: 0.6832 - mse: 0.5530 - val_loss: 1.2366 - val_mse: 1.1056\n",
      "Epoch 20/500\n",
      "\u001b[1m160/160\u001b[0m \u001b[32m━━━━━━━━━━━━━━━━━━━━\u001b[0m\u001b[37m\u001b[0m \u001b[1m1s\u001b[0m 4ms/step - loss: 0.6718 - mse: 0.5403 - val_loss: 1.2370 - val_mse: 1.1050\n",
      "Epoch 21/500\n",
      "\u001b[1m160/160\u001b[0m \u001b[32m━━━━━━━━━━━━━━━━━━━━\u001b[0m\u001b[37m\u001b[0m \u001b[1m1s\u001b[0m 4ms/step - loss: 0.6612 - mse: 0.5287 - val_loss: 1.2382 - val_mse: 1.1052\n",
      "Epoch 22/500\n",
      "\u001b[1m160/160\u001b[0m \u001b[32m━━━━━━━━━━━━━━━━━━━━\u001b[0m\u001b[37m\u001b[0m \u001b[1m1s\u001b[0m 4ms/step - loss: 0.6501 - mse: 0.5167 - val_loss: 1.2387 - val_mse: 1.1048\n",
      "Epoch 23/500\n",
      "\u001b[1m160/160\u001b[0m \u001b[32m━━━━━━━━━━━━━━━━━━━━\u001b[0m\u001b[37m\u001b[0m \u001b[1m1s\u001b[0m 4ms/step - loss: 0.6396 - mse: 0.5054 - val_loss: 1.2401 - val_mse: 1.1054\n",
      "Epoch 24/500\n",
      "\u001b[1m160/160\u001b[0m \u001b[32m━━━━━━━━━━━━━━━━━━━━\u001b[0m\u001b[37m\u001b[0m \u001b[1m1s\u001b[0m 4ms/step - loss: 0.6288 - mse: 0.4937 - val_loss: 1.2428 - val_mse: 1.1074\n",
      "Epoch 25/500\n",
      "\u001b[1m160/160\u001b[0m \u001b[32m━━━━━━━━━━━━━━━━━━━━\u001b[0m\u001b[37m\u001b[0m \u001b[1m1s\u001b[0m 4ms/step - loss: 0.6180 - mse: 0.4824 - val_loss: 1.2444 - val_mse: 1.1084\n",
      "Epoch 26/500\n",
      "\u001b[1m160/160\u001b[0m \u001b[32m━━━━━━━━━━━━━━━━━━━━\u001b[0m\u001b[37m\u001b[0m \u001b[1m1s\u001b[0m 4ms/step - loss: 0.6073 - mse: 0.4710 - val_loss: 1.2461 - val_mse: 1.1095\n",
      "Epoch 27/500\n",
      "\u001b[1m160/160\u001b[0m \u001b[32m━━━━━━━━━━━━━━━━━━━━\u001b[0m\u001b[37m\u001b[0m \u001b[1m1s\u001b[0m 4ms/step - loss: 0.5965 - mse: 0.4597 - val_loss: 1.2473 - val_mse: 1.1100\n",
      "Epoch 27: early stopping\n",
      "Restoring model weights from the end of the best epoch: 22.\n"
     ]
    }
   ],
   "source": [
    "from keras.callbacks import EarlyStopping\n",
    "\n",
    "mf_bias_reg_model = get_mf_bias_l2_reg_model(nb_users, nb_movies, k, lambda_)\n",
    "\n",
    "early_stopping = EarlyStopping(monitor='val_mse', patience=5, verbose=1, restore_best_weights=True)\n",
    "\n",
    "history = mf_bias_reg_model.fit(X_train, y_train, epochs=500, batch_size=512, validation_split=0.1, callbacks=[early_stopping])"
   ]
  },
  {
   "cell_type": "markdown",
   "metadata": {},
   "source": [
    "As you can see the training stops before 500 epochs, when the validation MSE stops decreasing during 5 consecutive epochs (the patience value = 5). "
   ]
  },
  {
   "cell_type": "markdown",
   "metadata": {},
   "source": [
    "## Grid search embedding size and regularization factor with early stopping"
   ]
  },
  {
   "cell_type": "markdown",
   "metadata": {},
   "source": [
    "So for the moment we didn't grid search our model hyper-parameters, such as `k` and `lambda_`. There exists some scikit-learn wrappers for keras models in order to use scikit grid search functions, unfortunately they only work with single input keras models, which is not our case as we have two inputs: the user and the movie indexes.\n",
    "\n",
    "So let's implement your own grid search function for the two parameters `k` and `lambda_`. With big enough datasets, it is not necessary to do a cross-validation for each hyper-parameter combination, and we can simply split the training set into a sub-training set and a validation set to test our hyper-parameters. It does work because the validation set is big enough to see enough data variations, and with very big datasets, it is anyway not possible anymore to do a full cross-validation as it takes too much time to train. \n",
    "\n",
    "Fill in the `grid_search` function below and use early stopping with a validation split (just like above), and retrieve the validation RMSE (you can get the MSE from the `history` variable that is returned by the `fit` method (and then take the `sqrt` of that)) for all the hyper-parameter combinations from the `param_grid` dictionary of hyper-parameter values. Call the `get_model_function` parameter (yes, you can pass functions as parameters!) to generate each model, and return the hyper-parameters that give the lowest RMSE on the 10% validation set, the RMSE value, and the best corresponding trained model."
   ]
  },
  {
   "cell_type": "code",
   "execution_count": 52,
   "metadata": {},
   "outputs": [],
   "source": [
    "import numpy as np\n",
    "import itertools\n",
    "import pandas as pd\n",
    "\n",
    "\n",
    "def _to_arrays(data):\n",
    "    \"\"\"\n",
    "    🔧 Helper I/O — Unifie les entrées pour l'entraînement Keras.\n",
    "    Accepte :\n",
    "      - DataFrame avec colonnes: userId, movieId, rating\n",
    "      - ((users, movies), y)\n",
    "      - (users, movies, y)\n",
    "    Retourne: (users:int32, movies:int32, y:float32)\n",
    "    \"\"\"\n",
    "    # Cas DataFrame\n",
    "    if isinstance(data, pd.DataFrame):\n",
    "        users  = data[\"userId\"].astype(\"int32\").values\n",
    "        movies = data[\"movieId\"].astype(\"int32\").values\n",
    "        y      = data[\"rating\"].astype(\"float32\").values\n",
    "        return users, movies, y\n",
    "\n",
    "    # Cas ((users, movies), y)\n",
    "    if isinstance(data, (tuple, list)) and len(data) == 2 and isinstance(data[0], (tuple, list)):\n",
    "        (users, movies), y = data\n",
    "        return (np.asarray(users, dtype=\"int32\"),\n",
    "                np.asarray(movies, dtype=\"int32\"),\n",
    "                np.asarray(y, dtype=\"float32\"))\n",
    "\n",
    "    # Cas (users, movies, y)\n",
    "    if isinstance(data, (tuple, list)) and len(data) == 3:\n",
    "        users, movies, y = data\n",
    "        return (np.asarray(users, dtype=\"int32\"),\n",
    "                np.asarray(movies, dtype=\"int32\"),\n",
    "                np.asarray(y, dtype=\"float32\"))\n",
    "\n",
    "    raise ValueError(\"Format 'data' non reconnu. Utilise un DataFrame ou ((users, movies), y) ou (users, movies, y).\")"
   ]
  },
  {
   "cell_type": "code",
   "execution_count": null,
   "metadata": {},
   "outputs": [],
   "source": [
    "from keras.callbacks import EarlyStopping, ReduceLROnPlateau\n",
    "\n",
    "\n",
    "\n",
    "def grid_search(data,\n",
    "                param_grid,\n",
    "                get_model_function,\n",
    "                nb_users,\n",
    "                nb_movies,\n",
    "                validation_size=0.10,\n",
    "                epochs=50,               # ✅ exposé\n",
    "                batch_size=8192,         # ✅ exposé\n",
    "                verbose=0,               # ✅ exposé\n",
    "                random_state=42,\n",
    "                es_patience=3,           # ✅ EarlyStopping param\n",
    "                rlrop=True,              # ✅ ReduceLROnPlateau param\n",
    "                print_each=True ):      # ✅ print à chaque combinaison de paramètres\n",
    "    \"\"\"\n",
    "    Grid-search sur (k, lambda_) avec split explicite train/val + callbacks.\n",
    "\n",
    "    Paramètres\n",
    "    ----------\n",
    "    data : pd.DataFrame ou tuple\n",
    "        - DataFrame avec colonnes ['userId','movieId','rating'] réindexées 0..N-1\n",
    "        - OU ((users, movies), y) / (users, movies, y)\n",
    "    param_grid : dict\n",
    "        e.g. {'k':[15,30], 'lambda_':[2e-5,5e-5,2e-4]}\n",
    "    get_model_function : callable\n",
    "        Factory de modèle : get_model_function(nb_users, nb_movies, k=?, l2_reg=?)\n",
    "        (si ta factory attend 'lambda_' au lieu de 'l2_reg', adapte plus bas)\n",
    "    nb_users, nb_movies : int\n",
    "        Tailles des vocabulaires (ids compacts)\n",
    "    validation_size : float\n",
    "        Proportion de validation (échantillon aléatoire explicite)\n",
    "    epochs, batch_size, verbose : voir Keras\n",
    "    random_state : int\n",
    "        Reproductibilité du split\n",
    "    es_patience : int\n",
    "        Patience d'EarlyStopping (epochs sans amélioration)\n",
    "    rlrop : bool\n",
    "        Active ReduceLROnPlateau(monitor=..., factor=0.5, patience=2)\n",
    "\n",
    "    Retour\n",
    "    ------\n",
    "    best_params : dict\n",
    "    best_score  : float   (meilleur RMSE validation)\n",
    "    best_model  : keras.Model (poids déjà restaurés à la meilleure époque)\n",
    "    \"\"\"\n",
    "    # === 1) Normalisation des données en arrays ===\n",
    "    users, movies, y = _to_arrays(data)\n",
    "    n = len(y)\n",
    "    assert len(users) == len(movies) == n, \"Incohérence de tailles users/movies/y.\"\n",
    "\n",
    "    # === 2) Split explicite train/val (stable & reproductible) ===\n",
    "    rng = np.random.default_rng(random_state)\n",
    "    idx = rng.permutation(n)\n",
    "    cut = int(n * (1 - validation_size))\n",
    "    tr, va = idx[:cut], idx[cut:]\n",
    "\n",
    "    X_tr = (users[tr], movies[tr]); y_tr = y[tr]\n",
    "    X_va = (users[va], movies[va]); y_va = y[va]\n",
    "\n",
    "    # === 3) Préparation grid ===\n",
    "    keys = list(param_grid.keys())\n",
    "    combos = list(itertools.product(*[param_grid[k] for k in keys]))\n",
    "\n",
    "    best_score = np.inf\n",
    "    best_params = None\n",
    "    best_model  = None\n",
    "\n",
    "    for values in combos:\n",
    "        params = dict(zip(keys, values))\n",
    "\n",
    "        # --- 🔁 Construction du modèle pour cette combinaison ---\n",
    "        # Mapping 'lambda_' -> 'l2_reg' si ta factory attend l2_reg\n",
    "        model_kwargs = {}\n",
    "        if \"k\" in params:        model_kwargs[\"k\"] = params[\"k\"]\n",
    "        if \"lambda_\" in params:  model_kwargs[\"lambda_\"] = params[\"lambda_\"]  # 👈 adapte ici si ta factory veut 'lambda_'\n",
    "\n",
    "        model = get_model_function(nb_users, nb_movies, **model_kwargs)\n",
    "\n",
    "        # --- 🎯 Choix auto du monitor: val_rmse > val_mse > val_loss ---\n",
    "        metric_names = [getattr(m, \"name\", str(m)) for m in model.metrics]\n",
    "        if \"rmse\" in metric_names:\n",
    "            monitor = \"val_rmse\"\n",
    "            mode = \"min\"\n",
    "            postproc = float  # déjà en unités RMSE\n",
    "        elif \"mse\" in metric_names:\n",
    "            monitor = \"val_mse\"\n",
    "            mode = \"min\"\n",
    "            # On convertira en RMSE après coup\n",
    "            postproc = lambda x: float(np.sqrt(x))\n",
    "        else:\n",
    "            monitor = \"val_loss\"\n",
    "            mode = \"min\"\n",
    "            postproc = lambda x: float(np.sqrt(x))  # loss = MSE (+ L2), on approxime via sqrt(val_loss_min)\n",
    "\n",
    "        # --- ⛑️ Callbacks : EarlyStopping (+ ReduceLROnPlateau optionnel) ---\n",
    "        cbs = [\n",
    "            EarlyStopping(monitor=monitor, mode=mode,\n",
    "                          patience=es_patience, restore_best_weights=True, verbose=(1 if verbose else 0))\n",
    "        ]\n",
    "        if rlrop:\n",
    "            cbs.append(ReduceLROnPlateau(monitor=monitor, mode=mode, factor=0.5,\n",
    "                                         patience=2, min_lr=1e-5, verbose=(1 if verbose else 0)))\n",
    "\n",
    "        # --- 🏋️‍♂️ Entraînement avec validation explicite ---\n",
    "        history = model.fit(\n",
    "            X_tr, y_tr,\n",
    "            validation_data=(X_va, y_va),\n",
    "            epochs=epochs,\n",
    "            batch_size=batch_size,\n",
    "            shuffle=True,\n",
    "            callbacks=cbs,\n",
    "            verbose=verbose\n",
    "        )\n",
    "\n",
    "        # ---------- Récup des métriques ----------\n",
    "        val_rmse_series = history.get(\"val_rmse\", None)\n",
    "        val_mse_series  = history.get(\"val_mse\",  None)\n",
    "        val_loss_series = history.get(\"val_loss\", None)\n",
    "        rmse_series     = history.get(\"rmse\",     None)\n",
    "        mse_series      = history.get(\"mse\",      None)\n",
    "        loss_series     = history.get(\"loss\",     None)\n",
    "        results_rows = []   # ✅ LISTE initialisée une seule fois, AVANT la boucle\n",
    "\n",
    "        # On choisit l’époque “meilleure” d’après la métrique de validation disponible\n",
    "        if val_rmse_series is not None:\n",
    "            best_epoch = int(np.argmin(val_rmse_series))\n",
    "            best_val_rmse = float(val_rmse_series[best_epoch])\n",
    "            best_val_mse  = float(val_mse_series[best_epoch]) if val_mse_series is not None else best_val_rmse**2\n",
    "        elif val_mse_series is not None:\n",
    "            best_epoch = int(np.argmin(val_mse_series))\n",
    "            best_val_mse  = float(val_mse_series[best_epoch])\n",
    "            best_val_rmse = float(np.sqrt(best_val_mse))\n",
    "        else:\n",
    "            # fallback via val_loss (contient MSE + L2) -> approximation\n",
    "            best_epoch = int(np.argmin(val_loss_series))\n",
    "            best_val_loss = float(val_loss_series[best_epoch]) if val_loss_series is not None else np.inf\n",
    "            best_val_mse  = best_val_loss  # approx\n",
    "            best_val_rmse = float(np.sqrt(best_val_mse))\n",
    "\n",
    "        # métriques train à l’époque optimale (si dispo)\n",
    "        train_rmse_at_best = float(rmse_series[best_epoch]) if rmse_series is not None else (\n",
    "            float(np.sqrt(mse_series[best_epoch])) if mse_series is not None else np.nan\n",
    "        )\n",
    "        train_mse_at_best  = float(mse_series[best_epoch]) if mse_series is not None else (\n",
    "            float(train_rmse_at_best**2) if not np.isnan(train_rmse_at_best) else np.nan\n",
    "        )\n",
    "        train_loss_at_best = float(loss_series[best_epoch]) if loss_series is not None else np.nan\n",
    "\n",
    "        epochs_used = len(loss_series) if loss_series is not None else (len(val_loss_series) if val_loss_series is not None else np.nan)\n",
    "\n",
    "        # log écran\n",
    "        if print_each:\n",
    "            print(f\"Validation RMSE for {params}: {best_val_rmse:.4f}\")\n",
    "\n",
    "        # ---------- On empile UNE ligne par combinaison ----------\n",
    "        row = {\n",
    "            \"k\": params.get(\"k\"),\n",
    "            \"lambda_\": params.get(\"lambda_\"),\n",
    "            \"val_rmse\": best_val_rmse,\n",
    "            \"val_mse\": best_val_mse,\n",
    "            \"val_loss\": float(val_loss_series[best_epoch]) if val_loss_series is not None else np.nan,\n",
    "            \"train_rmse_at_best\": train_rmse_at_best,\n",
    "            \"train_mse_at_best\": train_mse_at_best,\n",
    "            \"train_loss_at_best\": train_loss_at_best,\n",
    "            \"best_epoch\": best_epoch + 1,   # +1 pour affichage humain\n",
    "            \"epochs_used\": epochs_used\n",
    "        }\n",
    "        results_rows.append(row)  # ✅ on AJOUTE à la liste\n",
    "\n",
    "        # sélection du meilleur\n",
    "        if best_val_rmse < best_score:\n",
    "            best_score  = best_val_rmse\n",
    "            best_params = params\n",
    "            best_model  = model\n",
    "\n",
    "    # ---------- DataFrame avec TOUTES les combinaisons ----------\n",
    "    results_df = pd.DataFrame(results_rows).sort_values(\"val_rmse\").reset_index(drop=True)\n",
    "    return best_params, best_score, best_model, results_df"
   ]
  },
  {
   "cell_type": "code",
   "execution_count": 67,
   "metadata": {},
   "outputs": [
    {
     "data": {
      "text/plain": [
       "(array([431, 287, 598, ..., 589, 135, 274], dtype=int32),\n",
       " array([7316,  412, 3217, ..., 1424,  383, 3982], dtype=int32),\n",
       " array([4.5, 3. , 3. , ..., 3. , 5. , 1. ], dtype=float32))"
      ]
     },
     "execution_count": 67,
     "metadata": {},
     "output_type": "execute_result"
    }
   ],
   "source": [
    "### X_train est une liste [user_ids, movie_ids]\n",
    "# On va la convertir en DataFrame\n",
    "X_train_df = pd.DataFrame({'userId': X_train[0], 'movieId': X_train[1]})\n",
    "X_train_df.head()\n",
    "train=X_train,y_train\n",
    "\n",
    "train=_to_arrays(train)\n",
    "train"
   ]
  },
  {
   "cell_type": "code",
   "execution_count": 90,
   "metadata": {},
   "outputs": [
    {
     "name": "stdout",
     "output_type": "stream",
     "text": [
      "Validation RMSE for {'k': 16, 'lambda_': 1e-06}: 1.0210\n",
      "{'k': 16, 'lambda_': 1e-06} -> 1.0210\n",
      "Validation RMSE for {'k': 16, 'lambda_': 0.0001}: 1.0128\n",
      "{'k': 16, 'lambda_': 0.0001} -> 1.0128\n",
      "Validation RMSE for {'k': 32, 'lambda_': 1e-06}: 1.0420\n",
      "{'k': 32, 'lambda_': 1e-06} -> 1.0420\n",
      "Validation RMSE for {'k': 32, 'lambda_': 0.0001}: 1.0314\n",
      "{'k': 32, 'lambda_': 0.0001} -> 1.0314\n",
      "Best params: {'k': 16, 'lambda_': 0.0001}\n",
      "Best val RMSE: 1.0128\n",
      "top results:\n",
      "    k  lambda_  val_rmse\n",
      "0  32   0.0001  1.031409\n"
     ]
    }
   ],
   "source": [
    "###essai d'une recherche de grille sur k et lambda_\n",
    "\n",
    "param_grid = {\n",
    "    \"k\":        [16, 32],\n",
    "    \"lambda_\":  [1e-6, 1e-4]\n",
    "}\n",
    "\n",
    "best_params, best_val_rmse, best_model, results_df = grid_search(\n",
    "    data=train,                          # ou ((users, movies), y)\n",
    "    param_grid=param_grid,\n",
    "    get_model_function=get_mf_bias_l2_reg_model,\n",
    "    nb_users=nb_users,\n",
    "    nb_movies=nb_movies,\n",
    "    validation_size=0.10,\n",
    "    epochs=50,\n",
    "    batch_size=800,\n",
    "    verbose=0,           # affiche le fit\n",
    "    es_patience=2,       # un peu plus patient\n",
    "    rlrop=True,           # scheduler LR\n",
    "    print_each=True\n",
    ")\n",
    "\n",
    "print(\"Best params:\", best_params)\n",
    "print(f\"Best val RMSE: {best_val_rmse:.4f}\")\n",
    "print(\"top results:\")\n",
    "print(results_df)\n",
    "\n"
   ]
  },
  {
   "cell_type": "code",
   "execution_count": 83,
   "metadata": {
    "scrolled": true
   },
   "outputs": [
    {
     "name": "stdout",
     "output_type": "stream",
     "text": [
      "Validation RMSE for {'k': 15, 'lambda_': 0.0002}: 0.9986\n",
      "{'k': 15, 'lambda_': 0.0002} -> 0.9986\n",
      "Validation RMSE for {'k': 15, 'lambda_': 5e-05}: 1.0272\n",
      "{'k': 15, 'lambda_': 5e-05} -> 1.0272\n",
      "Validation RMSE for {'k': 15, 'lambda_': 2e-05}: 1.0474\n",
      "{'k': 15, 'lambda_': 2e-05} -> 1.0474\n",
      "Validation RMSE for {'k': 30, 'lambda_': 0.0002}: 0.9955\n",
      "{'k': 30, 'lambda_': 0.0002} -> 0.9955\n",
      "Validation RMSE for {'k': 30, 'lambda_': 5e-05}: 1.0632\n",
      "{'k': 30, 'lambda_': 5e-05} -> 1.0632\n",
      "Validation RMSE for {'k': 30, 'lambda_': 2e-05}: 1.0708\n",
      "{'k': 30, 'lambda_': 2e-05} -> 1.0708\n"
     ]
    }
   ],
   "source": [
    "lambdas_ = [0.0002, 0.00005, 0.00002]\n",
    "ks = [15,30]\n",
    "\n",
    "param_grid = { 'k' : ks, 'lambda_' : lambdas_ }\n",
    "\n",
    "best_params, best_val_rmse, best_model,results_df = grid_search(\n",
    "    data=train,                          # ou ((users, movies), y)\n",
    "    param_grid=param_grid,\n",
    "    get_model_function=get_mf_bias_l2_reg_model,\n",
    "    nb_users=nb_users,\n",
    "    nb_movies=nb_movies,\n",
    "    validation_size=0.10,\n",
    "    epochs=500,\n",
    "    batch_size=8192,\n",
    "    verbose=0,           # affiche le fit\n",
    "    es_patience=5,       # un peu plus patient\n",
    "    rlrop=True,           # scheduler LR,\n",
    "    print_each=True\n",
    ")"
   ]
  },
  {
   "cell_type": "code",
   "execution_count": 85,
   "metadata": {},
   "outputs": [
    {
     "name": "stdout",
     "output_type": "stream",
     "text": [
      "Best params: {'k': 30, 'lambda_': 0.0002}\n",
      "Best val RMSE: 0.9955\n",
      "\n",
      "Top results:\n",
      "                        params  val_rmse\n",
      "0  {'k': 30, 'lambda_': 2e-05}  1.070849\n"
     ]
    }
   ],
   "source": [
    "print(\"Best params:\", best_params)\n",
    "print(f\"Best val RMSE: {best_val_rmse:.4f}\")\n",
    "print(\"\\nTop results:\")\n",
    "print(results_df)"
   ]
  },
  {
   "cell_type": "code",
   "execution_count": null,
   "metadata": {},
   "outputs": [
    {
     "name": "stdout",
     "output_type": "stream",
     "text": [
      "\u001b[1m316/316\u001b[0m \u001b[32m━━━━━━━━━━━━━━━━━━━━\u001b[0m\u001b[37m\u001b[0m \u001b[1m1s\u001b[0m 1ms/step\n",
      "Best model test RMSE : 1.088435155027172 \n"
     ]
    }
   ],
   "source": [
    "y_pred = best_model.predict(X_test)\n",
    "\n",
    "test_rmse = sqrt(mean_squared_error(y_test, y_pred))\n",
    "\n",
    "print(\"Best model test RMSE : %s \" % test_rmse)"
   ]
  },
  {
   "cell_type": "markdown",
   "metadata": {},
   "source": [
    "## Retrain on all the dataset with the best hyper-parameters"
   ]
  },
  {
   "cell_type": "markdown",
   "metadata": {},
   "source": [
    "Actually other hyper-parameters such as the ones of SGD should also be grid-searched, like the number of epochs or the batch size. But that would be a bit long for this course. \n",
    "\n",
    "Now we want to do the best prediction possible, so retrain below your model on the whole dataset, including the test set, with the best values obtained from your grid search to make new predictions with our optimal parameters :"
   ]
  },
  {
   "cell_type": "code",
   "execution_count": null,
   "metadata": {
    "scrolled": true
   },
   "outputs": [
    {
     "ename": "SyntaxError",
     "evalue": "expected argument value expression (4218197374.py, line 7)",
     "output_type": "error",
     "traceback": [
      "  \u001b[36mCell\u001b[39m\u001b[36m \u001b[39m\u001b[32mIn[51]\u001b[39m\u001b[32m, line 7\u001b[39m\n\u001b[31m    \u001b[39m\u001b[31mbest_model=get_mf_bias_l2_reg_model(nb_users, nb_movies, k =, lambda_ =)\u001b[39m\n                                                             ^\n\u001b[31mSyntaxError\u001b[39m\u001b[31m:\u001b[39m expected argument value expression\n"
     ]
    }
   ],
   "source": [
    "from keras.callbacks import EarlyStopping\n",
    "\n",
    "X = [dataset[\"userId\"].to_numpy(), dataset[\"movieId\"].to_numpy()]\n",
    "y = dataset[\"rating\"].to_numpy()\n",
    "\n",
    "#TOFILL\n",
    "best_model=get_mf_bias_l2_reg_model(nb_users, nb_movies, k =best_params[0], lambda_ =best_params[1])\n",
    "\n",
    "early_stopping = EarlyStopping(monitor='val_mse', patience=10, verbose=1, restore_best_weights=True)\n",
    "\n",
    "best_model.fit(X, y, epochs=500, batch_size=512, validation_split=0.1, callbacks=[early_stopping])"
   ]
  },
  {
   "cell_type": "markdown",
   "metadata": {},
   "source": [
    "## Recommend the top-5 movies for the 10 first users"
   ]
  },
  {
   "cell_type": "markdown",
   "metadata": {},
   "source": [
    "With your retrained best model with optimal hyper parameters, compute the predictions for all the ratings that are not in the `dataset` for the 10 first users (indexes from 0 to 9). That means all the movies $i$ that these users $u \\in 0,\\ldots,9$ haven't rated, thus all the $u,i$ combinations that are not in the `dataset` dataframe rows.\n",
    "\n",
    "Order these predicted ratings for these users by decreasing order, and print out the 5 first ones, i.e. the ones that have the highest predicted ratings. Use the *movies.csv* file to print the real titles."
   ]
  },
  {
   "cell_type": "code",
   "execution_count": null,
   "metadata": {},
   "outputs": [],
   "source": [
    "def get_top5_for_user(model, user_id, dataset):\n",
    "    \"\"\"\n",
    "    Returns a list of the 5 movies that have the highest ratings among the unrated movies\n",
    "    of user `user_id`, along with a list of their predicted ratings.\n",
    "    \n",
    "    Input :\n",
    "        model : keras.models.Model : A trained matrix factorization model\n",
    "        user_id : int : The user id to use\n",
    "        dataset : DataFrame : The whole dataset, useful to find the movies \n",
    "            the user `user_id` has already rated\n",
    "    \n",
    "    Output :\n",
    "        five_best_movie_ids : list : The five movie ids among unrated movies by user `user_id` \n",
    "            that have the highest predicted ratings, in order\n",
    "        five_best_ratings : list : The corresponding five ratings\n",
    "    \"\"\"\n",
    "    \n",
    "    #TOFILL\n",
    "    \n",
    "    \n",
    "    return five_best_movie_ids, five_best_ratings"
   ]
  },
  {
   "cell_type": "code",
   "execution_count": null,
   "metadata": {
    "scrolled": true
   },
   "outputs": [],
   "source": [
    "#TOFILL\n",
    "\n"
   ]
  },
  {
   "cell_type": "markdown",
   "metadata": {},
   "source": [
    "## Visualize the embeddings"
   ]
  },
  {
   "cell_type": "markdown",
   "metadata": {},
   "source": [
    "Let's now have a look at what is going on in the embedding space of the movies that we learnt. Our brain cannot picture anything beyond 3 dimensions, and we learnt high dimensional embeddings (k=15 or 30), so we are going to project the movies embeddings on a 2D plane, first with PCA, and then with another algorithm made for visualizing high dimensional spaces called t-sne."
   ]
  },
  {
   "cell_type": "markdown",
   "metadata": {},
   "source": [
    "### PCA"
   ]
  },
  {
   "cell_type": "markdown",
   "metadata": {},
   "source": [
    "You have already studied PCA, it is a useful technique for dimensionality reduction, but also simply for visualization. Don't forget to scale your embeddings first. To access the embeddings values of your keras model, have a look at the *get_weights()* function.\n",
    "\n",
    "Compute a PCA on all your movies embeddings, get the 2 first principal components, and do a scatter plot of all the movies on a 2D plane, where each movie is a point defined by the two values of the two first principal components of the PCA from its embedding. Add the titles of the movies to each point of the plot (use plotly to do so it will be clearer), and try to see if you can interpret the axes of the PCA through to different movie genres, like in Figure 3 from the article *Matrix Factorization Techniques for Recommender Systems*."
   ]
  },
  {
   "cell_type": "code",
   "execution_count": null,
   "metadata": {},
   "outputs": [],
   "source": [
    "from sklearn.preprocessing import StandardScaler\n",
    "from sklearn.decomposition import PCA\n",
    "import plotly.express as px\n",
    "\n",
    "#TOFILL\n"
   ]
  },
  {
   "cell_type": "markdown",
   "metadata": {},
   "source": [
    "## t-sne"
   ]
  },
  {
   "cell_type": "markdown",
   "metadata": {},
   "source": [
    "Let's do the same with t-sne, an algorithm specialized for visualizing high dimensional spaces, you can read more about it there : https://en.wikipedia.org/wiki/T-distributed_stochastic_neighbor_embedding"
   ]
  },
  {
   "cell_type": "code",
   "execution_count": null,
   "metadata": {},
   "outputs": [],
   "source": [
    "from sklearn.manifold import TSNE\n",
    "\n",
    "#TOFILL:\n"
   ]
  },
  {
   "cell_type": "markdown",
   "metadata": {},
   "source": [
    "T-sne in general tends to preserve local similarities better than PCA. In any case, it's always interesting to try both for visualizing high dimensional data."
   ]
  },
  {
   "cell_type": "code",
   "execution_count": null,
   "metadata": {},
   "outputs": [],
   "source": []
  },
  {
   "cell_type": "markdown",
   "metadata": {},
   "source": [
    "Optionally, you can export your embedding and upload them on https://projector.tensorflow.org/ to visualize the embeddings in 3D. You can also use the movies genres from the *movies.csv* file to make one plot for each movie genre and try to see if some parts of the embedding space are representative of a movie genre."
   ]
  },
  {
   "cell_type": "markdown",
   "metadata": {},
   "source": [
    "# GOING FURTHER"
   ]
  },
  {
   "cell_type": "markdown",
   "metadata": {},
   "source": [
    "## Recommend movies to yourself"
   ]
  },
  {
   "cell_type": "markdown",
   "metadata": {},
   "source": [
    "Implement a function that ask you to rate 20 movies, then add your own ratings to the dataset, retrain the model, and compute your own top-5 predictions."
   ]
  },
  {
   "cell_type": "code",
   "execution_count": null,
   "metadata": {
    "scrolled": true
   },
   "outputs": [],
   "source": [
    "import random\n",
    "\n",
    "def rate_my_movies(my_user_id, dataset, nb_movies, nb_to_rate, movie_ids_map):\n",
    "    \"\"\"\n",
    "    Returns a dataframe in the same format as the dataset dataframe, with\n",
    "    ratings entered by the user for `nb_to_rate` random movies\n",
    "    \n",
    "    Input :\n",
    "        my_user_id : int : The user_id of the new ratings\n",
    "        dataset : DataFrame : The whole dataset \n",
    "        nb_movies : int : Number of unique movie ids\n",
    "        nb_to_rate : int : Number of movies to rate\n",
    "        movie_ids_map : dict : The mapping of original file userId to a new index starting at 0.\n",
    "    \n",
    "    Output : \n",
    "        my_ratings : DataFrame : A dataframe with the same column as `dataset` containing\n",
    "            the new ratings entered by the user\n",
    "    \"\"\"\n",
    "    #TOFILL\n",
    " \n",
    "\n",
    "\n",
    "\n",
    "    return my_ratings\n",
    "\n",
    "\n",
    "my_user_id = len(user_ids_map)\n",
    "\n",
    "my_ratings = rate_my_movies(my_user_id, dataset, nb_movies, 20, movie_ids_map)\n",
    "\n"
   ]
  },
  {
   "cell_type": "code",
   "execution_count": null,
   "metadata": {},
   "outputs": [],
   "source": [
    "dataset_with_me = pd.concat([dataset, my_ratings], axis = 0).sample(frac=1).reset_index(drop=True)\n",
    "\n",
    "X_with_me = [dataset_with_me[\"userId\"].to_numpy(), dataset_with_me[\"movieId\"].to_numpy()]\n",
    "y_with_me = dataset_with_me[\"rating\"].to_numpy()\n"
   ]
  },
  {
   "cell_type": "code",
   "execution_count": null,
   "metadata": {
    "scrolled": true
   },
   "outputs": [],
   "source": [
    "best_model=get_mf_bias_l2_reg_model(nb_users + 1, nb_movies, k = best_params['k'], lambda_ = best_params['lambda_'])\n",
    "\n",
    "early_stopping = EarlyStopping(monitor='val_mse', patience=10, verbose=1, restore_best_weights=True)\n",
    "\n",
    "best_model.fit(X_with_me, y_with_me, epochs=500, batch_size=512, validation_split=0.1, callbacks=[early_stopping])"
   ]
  },
  {
   "cell_type": "code",
   "execution_count": null,
   "metadata": {},
   "outputs": [],
   "source": [
    "five_best_movie_ids, five_best_ratings =  get_top5_for_user(best_model, my_user_id, dataset)"
   ]
  },
  {
   "cell_type": "code",
   "execution_count": null,
   "metadata": {},
   "outputs": [],
   "source": []
  },
  {
   "cell_type": "markdown",
   "metadata": {},
   "source": [
    "## Reuse the movie embeddings to predict the movies genre with multi-label classification"
   ]
  },
  {
   "cell_type": "markdown",
   "metadata": {},
   "source": [
    "Beyond the goal of predicting missing rating, the matrix factorization techniques also produces vectorial representation of movies and users: their embeddings, what we just visualized for the movies. With a big enough dataset, these embeddings actually are good abstract representations of the movies and of the users, and can be reused as features for other tasks, such as classification.\n",
    "\n",
    "In the *movies.csv*, there is a column that gives the genres of each movie. Let's try to predict the genres of the movies from the embeddings we learnt. As you can see, each movie can have more than one genre, so in classification terms, more than one class. We can achieve that with *multilabel classification*. You can read more about it there: https://scikit-learn.org/stable/modules/multiclass.html\n",
    "\n",
    "Load the movies genre, encode them as binary classes and use the classes imported below to train a multilabel classifier that uses the movie embeddings as features, and the movie genres as classes. Use the *OneVsRestClassifier* with a simple *LinearSVC* without any hyper-parameter tuning. Finally print the test accuracy, F1, precision and recall for each class, as well as the number of time each class appears in the dataset."
   ]
  },
  {
   "cell_type": "code",
   "execution_count": null,
   "metadata": {},
   "outputs": [],
   "source": [
    "from sklearn.preprocessing import MultiLabelBinarizer\n",
    "from sklearn.model_selection import train_test_split\n",
    "from sklearn.multiclass import OneVsRestClassifier\n",
    "from sklearn.svm import LinearSVC\n",
    "from sklearn.metrics import accuracy_score, f1_score, precision_score, recall_score\n",
    "\n",
    "#TOFILL\n"
   ]
  },
  {
   "cell_type": "markdown",
   "metadata": {},
   "source": [
    "On rare classes, you should get a very high accuracy, with a very low F1. Indeed these classes are really imbalanced : there are a few positives, hence the classifier is largely biased toward the negatives, and rarely predict a positive for these classes. This is why accuracy is generally a bad measure with imbalanced dataset : the high number of true negatives makes the accuracy number high, while our model is actually barely capable of predicting true positives.\n",
    "\n",
    "Let's compare our classifier performance with a *DummyClassifier*, the dummy classifier takes the ratio $r = \\frac{nb\\_positives}{nb\\_positives + nb\\_negatives}$ as the probability to predict a positive, and then do it randomly."
   ]
  },
  {
   "cell_type": "code",
   "execution_count": null,
   "metadata": {
    "scrolled": true
   },
   "outputs": [],
   "source": [
    "from sklearn.dummy import DummyClassifier\n",
    "\n",
    "#TOFILL\n",
    "\n"
   ]
  },
  {
   "cell_type": "markdown",
   "metadata": {},
   "source": [
    "As you can see, simply respecting the class balance, even at random, produces better F1 on most classes. One way to compensate for class imbalance is to tell the classifier to weight more the true samples at training time, accordingly with the ratio $r$ between true and false samples. With scikit-learn SVM implementation, you can use the argument *class_weight* for setting the weight of the positive and negative samples at training time. See : https://scikit-learn.org/stable/auto_examples/svm/plot_separating_hyperplane_unbalanced.html\n",
    "\n",
    "But if you just want to set the class weights accordingly with the ratio between positives and negatives, you can just set *class_weight = ‘balanced’*. Test it with the LinearSVC classifier:"
   ]
  },
  {
   "cell_type": "code",
   "execution_count": null,
   "metadata": {
    "scrolled": true
   },
   "outputs": [],
   "source": [
    "#TOFILL\n",
    "\n"
   ]
  },
  {
   "cell_type": "markdown",
   "metadata": {},
   "source": [
    "F1 is now much better than with the dummy classifier, however is is still not very convincing. This is quite normal given the size of the dataset we are using, which is pretty small to get really meaningful embeddings. But with bigger datasets, reusing embeddings as features for auxiliary tasks such as classification is actually a very effective way of doing so when there is no other informations about the items we try to classify. Here the items are the movies, the dataset doesn't provide more information about them, but one could imagine fetching from internet textual descriptions of the movies and use them as features alongside the embeddings to improve the classification results."
   ]
  },
  {
   "cell_type": "markdown",
   "metadata": {},
   "source": [
    "## Try out the different SGD algorithms"
   ]
  },
  {
   "cell_type": "markdown",
   "metadata": {},
   "source": [
    "In all the notebook we used the 'adam' `optimizer` to train our model, which is a variation of SGD. Keras proposes different variations of SGD: https://keras.io/optimizers/ . This article gif images gives an intuitive view of their different behavior : https://medium.com/@ramrajchandradevan/the-evolution-of-gradient-descend-optimization-algorithm-4106a6702d39\n",
    "\n",
    "Try a few ones with our model and see how the training and testing loss evolves."
   ]
  },
  {
   "cell_type": "code",
   "execution_count": null,
   "metadata": {},
   "outputs": [],
   "source": [
    "#TOFILL"
   ]
  },
  {
   "cell_type": "markdown",
   "metadata": {},
   "source": [
    "## Add the global bias $\\mu$  parameter to the model"
   ]
  },
  {
   "cell_type": "markdown",
   "metadata": {},
   "source": [
    "Remember we didn't added the global bias $\\mu$ to our model yet (Equations (4-5) from Koren's paper). Use your best google skills to find a way to add an embedding layer that does that.\n",
    "\n",
    "Hint : Use a constant `Input` layer."
   ]
  },
  {
   "cell_type": "code",
   "execution_count": null,
   "metadata": {},
   "outputs": [],
   "source": [
    "from keras import backend as K\n",
    "#TOFILL\n"
   ]
  },
  {
   "cell_type": "code",
   "execution_count": null,
   "metadata": {},
   "outputs": [],
   "source": []
  },
  {
   "cell_type": "code",
   "execution_count": null,
   "metadata": {},
   "outputs": [],
   "source": []
  },
  {
   "cell_type": "code",
   "execution_count": null,
   "metadata": {},
   "outputs": [],
   "source": []
  },
  {
   "cell_type": "markdown",
   "metadata": {},
   "source": [
    "## Implement your own Stochastic Gradient Descent for Matrix Factorization with numpy instead of Keras (very optional)"
   ]
  },
  {
   "cell_type": "markdown",
   "metadata": {},
   "source": [
    "Now you know everything to implement your own matrix factorization SGD model, all with numpy arrays. Start without the biases again, and without mini-batches. The gradient update equations are described in page 4 of Koren's paper. Let's initialize your $p$ and $q$ embeddings with a gaussian sampling. Print the RMSE at the beginning of each epoch, and finally compute the RMSE of your model on the test set."
   ]
  },
  {
   "cell_type": "code",
   "execution_count": null,
   "metadata": {},
   "outputs": [],
   "source": [
    "from numpy.random import normal\n",
    "\n",
    "P = normal(size = (nb_users,k))\n",
    "Q = normal(size = (nb_movies,k))\n",
    "\n",
    "gamma = 0.1\n",
    "lambda_ = 0.00001\n",
    "epochs = 10\n",
    "\n",
    "for e in range(epochs):\n",
    "    for j in range(train.shape[0]):\n",
    "        u = train['userId'].iloc[j]\n",
    "        i = train['movieId'].iloc[j]\n",
    "        r_ui = train['rating'].iloc[j]\n",
    "        \n",
    "        #TOFILL\n"
   ]
  },
  {
   "cell_type": "code",
   "execution_count": null,
   "metadata": {},
   "outputs": [],
   "source": []
  },
  {
   "cell_type": "code",
   "execution_count": null,
   "metadata": {},
   "outputs": [],
   "source": []
  }
 ],
 "metadata": {
  "kernelspec": {
   "display_name": "ML_env",
   "language": "python",
   "name": "python3"
  },
  "language_info": {
   "codemirror_mode": {
    "name": "ipython",
    "version": 3
   },
   "file_extension": ".py",
   "mimetype": "text/x-python",
   "name": "python",
   "nbconvert_exporter": "python",
   "pygments_lexer": "ipython3",
   "version": "3.12.12"
  }
 },
 "nbformat": 4,
 "nbformat_minor": 4
}
